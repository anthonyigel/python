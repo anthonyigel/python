{
 "cells": [
  {
   "cell_type": "code",
   "execution_count": null,
   "metadata": {
    "collapsed": true
   },
   "outputs": [],
   "source": [
    "##################################################\n",
    "### Author: Anthony Igel                       ###\n",
    "### Team: Category Management Transformation   ###\n",
    "### Project: Developing practical Python Tools ###\n",
    "### Purpose: Importing data using Py_effo      ###\n",
    "### Date: 05/23/2018                           ###\n",
    "##################################################\n",
    "\n",
    "### py_effo (PYthon at Eighty Four Fifty One)\n",
    "#################################################################################################################################\n",
    "\n",
    "######## sys information ########\n",
    "### Before starting, ensure that your version of Python is up to date\n",
    "import sys\n",
    "assert sys.version_info.major == 3\n",
    "\n",
    "######################################################################\n",
    "########                     Import Modules                   ########\n",
    "######################################################################\n",
    "import py_effo as py_effo\n",
    "\n",
    "### pandas\n",
    "# Pandas is for structured data operations and manipulations, extensively used for data preparation\n",
    "import pandas as pd"
   ]
  },
  {
   "cell_type": "code",
   "execution_count": null,
   "metadata": {
    "collapsed": false
   },
   "outputs": [],
   "source": [
    "######## Importing Data ########\n",
    "### py_effo was developed internally to help connect to Oracle and to create hive connections\n",
    "### Once you establish your connection to the desired workspace, you can query exa_data tables\n",
    "\n",
    "# Example\n",
    "from py_effo.oracle_connection import OracleConnection\n",
    "ora_con = OracleConnection(user = 'an_rt_ws106')\n",
    "\n",
    "### Wrap your SQL query in (\") as an argument in ora_con.query()\n",
    "comm_wkly_sales = ora_con.query(\"SELECT * FROM CM_TIERS_COMM_WKLY_SALES WHERE PROD_MERCH_L20_CODE IN ('001')\")\n",
    "\n",
    "### View the table you imported by calling the stored variable you assigned it as\n",
    "comm_wkly_sales"
   ]
  },
  {
   "cell_type": "code",
   "execution_count": null,
   "metadata": {
    "collapsed": false
   },
   "outputs": [],
   "source": [
    "### You can also import a table without querying it\n",
    "comm_fy_div_metrics = ora_con.import_table('CM_TIERS_COMM_FY_DIV_METRICS')\n",
    "\n",
    "# View table by calling the stored variable assigned to it\n",
    "comm_fy_div_metrics"
   ]
  },
  {
   "cell_type": "code",
   "execution_count": null,
   "metadata": {
    "collapsed": false
   },
   "outputs": [],
   "source": [
    "######################################################################\n",
    "########               Loading Data Not in Oracle             ########\n",
    "######################################################################\n",
    "\n",
    "######## CSV Files ########\n",
    "mega_category_mappings = pd.read_csv(\"/nfs/analysis/analysis/kroger/category_management_transformation/mini_hack_days/python/category_survey_product_mapping.csv\")\n",
    "\n",
    "### View the top records of the data frame\n",
    "mega_category_mappings.head()\n",
    "######## Excel Files ########\n",
    "### Use the pandas package\n",
    "# df = pd.read_excel(\"file_path/file_name.xlsx, \"sheet_name\")"
   ]
  },
  {
   "cell_type": "code",
   "execution_count": null,
   "metadata": {
    "collapsed": false
   },
   "outputs": [],
   "source": [
    "######## Exporting Data ########\n",
    "### py_effo also allows you to push a table from Python to Oracle, just use the function \"export_table\"\n",
    "\n",
    "### export_table will automatically overwrite an existing table if you specify the argument if_exists = 'replace'\n",
    "### The default value for if_exists is 'fail' and 'False' for gather_stats\n",
    "\n",
    "############## DO NOT RUN ##############\n",
    "# ora_con.export_table(comm_fy_div_metrics, table_name = 'CM_TIERS_COMM_FY_DIV_METRICS', gather_stats = True, if_exists = 'replace')"
   ]
  },
  {
   "cell_type": "code",
   "execution_count": null,
   "metadata": {
    "collapsed": false
   },
   "outputs": [],
   "source": [
    "######################################################################\n",
    "########             Additional Functions in py_effo          ########\n",
    "######################################################################\n",
    "\n",
    "######## Table Exists ########\n",
    "### You can run a query against Oracle determine if a table name already exists in Oracle\n",
    "\n",
    "# Example\n",
    "# ora_con.table_exists('table_name')\n",
    "\n",
    "\n",
    "######## Drop Table ########\n",
    "### Dropping a table in Oracle through Python\n",
    "\n",
    "# Example 1\n",
    "# ora_con.drop_table('table_name')\n",
    "\n",
    "# Example 2\n",
    "# for table_name in ['table_name1', 'table_name2']:\n",
    "#     con.drop_table(table_name)\n",
    "\n",
    "######## Gathering Statistics on a Table ########\n",
    "### Returns statistics on a table in Oracle\n",
    "\n",
    "# Example\n",
    "# ora_con.gather_stats('table_name')\n",
    "\n",
    "\n",
    "######## Disconnecting from Oracle ########\n",
    "### Disconnections established connection to Oracle\n",
    "\n",
    "# Example\n",
    "# OracleConnection.disconnect(self)\n"
   ]
  },
  {
   "cell_type": "code",
   "execution_count": null,
   "metadata": {
    "collapsed": false
   },
   "outputs": [],
   "source": [
    "######## py_effo.proc_sas freq ########\n",
    "### Similar to SAS, py_effo has a function to simulate SAS's \"proc freq\" functionality\n",
    "\n",
    "# Example\n",
    "# from py_effo.proc_sas import freq\n",
    "# freq(comm_fy_div_metrics, cols = ['PROD_MERCH_L20_CODE', 'DIVISION'], order = 'value', ascending = True)\n"
   ]
  },
  {
   "cell_type": "code",
   "execution_count": null,
   "metadata": {
    "collapsed": false
   },
   "outputs": [],
   "source": [
    "######## py_effo.proc_sas chi2 ########\n",
    "### Similar to SAS, py_effo has a function to calculate the chi-squared relationship of two columns\n",
    "\n",
    "# Example\n",
    "# from py_effo.proc_sas import chi2\n",
    "# chi2(comm_fy_div_metrics, cols = ['SPEND', 'UNITS'])"
   ]
  },
  {
   "cell_type": "code",
   "execution_count": null,
   "metadata": {
    "collapsed": false
   },
   "outputs": [],
   "source": [
    "######################################################################\n",
    "########                   Exporting Files                    ########\n",
    "######################################################################\n",
    "### Export to .csv\n",
    "comm_wkly_sales.to_csv('comm_wkly_sales_copy', encoding = 'utf-8', index = False)\n",
    "comm_fy_div_metrics.to_csv('comm_fy_div_metrics_copy', encoding = 'utf-8', index = False)"
   ]
  }
 ],
 "metadata": {
  "anaconda-cloud": {},
  "kernelspec": {
   "display_name": "Python [conda env:py36]",
   "language": "python",
   "name": "conda-env-py36-py"
  },
  "language_info": {
   "codemirror_mode": {
    "name": "ipython",
    "version": 3
   },
   "file_extension": ".py",
   "mimetype": "text/x-python",
   "name": "python",
   "nbconvert_exporter": "python",
   "pygments_lexer": "ipython3",
   "version": "3.6.2"
  }
 },
 "nbformat": 4,
 "nbformat_minor": 1
}
