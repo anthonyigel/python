{
 "cells": [
  {
   "cell_type": "code",
   "execution_count": 15,
   "metadata": {
    "collapsed": false
   },
   "outputs": [],
   "source": [
    "##################################################\n",
    "### Author: Anthony Igel                       ###\n",
    "### Team: Category Management Transformation   ###\n",
    "### Project: Developing practical Python Tools ###\n",
    "### Purpose: Multivariate Regression           ###\n",
    "### Date: 06/01/2018                           ###\n",
    "##################################################\n",
    "\n",
    "######################################################################\n",
    "########                     Import Modules                   ########\n",
    "######################################################################\n",
    "import py_effo as py_effo\n",
    "\n",
    "### pandas\n",
    "# Pandas is for structured data operations and manipulations, extensively used for data preparation\n",
    "import pandas as pd\n",
    "\n",
    "### numpy\n",
    "# NumPy stands for Numerical Python, a library contains basic linear algebra functions, Fourier Transforms and advanced random\n",
    "# number capabilities\n",
    "import numpy as np \n",
    "\n",
    "### Scipy\n",
    "# Scipy performs a host of statistical calculations, built on top of Numpy, thus we do not need to import Numpy as all Numpy\n",
    "# functions are contained in Scipy\n",
    "# https://oneau.wordpress.com/2011/02/28/simple-statistics-with-scipy/\n",
    "import scipy as sp\n",
    "\n",
    "### sklearn\n",
    "# Sklearn contains basic statistical models\n",
    "from sklearn.datasets import load_linnerud\n",
    "from sklearn.datasets import make_friedman1\n",
    "\n",
    "# As well as a module to calculate model performance statistics\n",
    "from sklearn.model_selection import cross_val_score\n",
    "from sklearn.metrics import mean_squared_error\n",
    "from sklearn import ensemble\n",
    "from sklearn import metrics, model_selection, tree\n",
    "\n",
    "### Statsmodels\n",
    "# Sklearn contains basic statistical models and data sets\n",
    "import statsmodels.api as sm\n",
    "\n",
    "### Matplotlib\n",
    "# Matplotlib is a Python based plotting library with complete 2D support and limited 3D support\n",
    "%matplotlib inline\n",
    "import matplotlib as mlb\n",
    "import matplotlib.pyplot as plt\n",
    "\n",
    "### Seaborn\n",
    "# Seaborn is a Python visualization library based on Matplolib, providing high-level interface for statistcial graphing\n",
    "# Seaborn supports numpy and pandas data structures as well as statistical routines from scipy and statsmodels\n",
    "# Note: https://seaborn.pydata.org/introduction.html\n",
    "import seaborn as sns\n",
    "\n",
    "### String\n",
    "# Allows for more flexible solutions for dealing with string characters\n",
    "import string as st"
   ]
  },
  {
   "cell_type": "code",
   "execution_count": 12,
   "metadata": {
    "collapsed": false
   },
   "outputs": [
    {
     "name": "stdout",
     "output_type": "stream",
     "text": [
      "Exercise Data\n",
      "   chins  situps  jumps\n",
      "0    5.0   162.0   60.0\n",
      "1    2.0   110.0   60.0\n",
      "2   12.0   101.0  101.0\n",
      "\n",
      "Physiological Data\n",
      "   weight  waist  pulse\n",
      "0   191.0   36.0   50.0\n",
      "1   189.0   37.0   52.0\n",
      "2   193.0   38.0   58.0\n",
      "\n",
      "Exercise Data Summary\n",
      "           chins      situps      jumps\n",
      "count  20.000000   20.000000   20.00000\n",
      "mean    9.450000  145.550000   70.30000\n",
      "std     5.286278   62.566575   51.27747\n",
      "min     1.000000   50.000000   25.00000\n",
      "25%     4.750000  101.000000   39.50000\n",
      "50%    11.500000  122.500000   54.00000\n",
      "75%    13.250000  210.000000   85.25000\n",
      "max    17.000000  251.000000  250.00000\n",
      "\n",
      "Physiological Data Summary\n",
      "           weight      waist      pulse\n",
      "count   20.000000  20.000000  20.000000\n",
      "mean   178.600000  35.400000  56.100000\n",
      "std     24.690505   3.201973   7.210373\n",
      "min    138.000000  31.000000  46.000000\n",
      "25%    160.750000  33.000000  51.500000\n",
      "50%    176.000000  35.000000  55.000000\n",
      "75%    191.500000  37.000000  60.500000\n",
      "max    247.000000  46.000000  74.000000\n",
      "\n",
      "Exercise Null Values\n",
      "chins     0\n",
      "situps    0\n",
      "jumps     0\n",
      "dtype: int64\n",
      "\n",
      "Physiological Null Values\n",
      "weight    0\n",
      "waist     0\n",
      "pulse     0\n",
      "dtype: int64\n"
     ]
    }
   ],
   "source": [
    "######################################################################\n",
    "########                      Example 1                       ########\n",
    "######################################################################\n",
    "\n",
    "######################################################################\n",
    "########                     Import Data                      ########\n",
    "######################################################################\n",
    "\n",
    "### Linnerud Data\n",
    "# linnerud is a data set comprised of exercise data and physiological data\n",
    "# load dataset from statsmodel modules\n",
    "df = load_linnerud()\n",
    "\n",
    "### Since linnerud IS a numpy ndarry we must first make it a dataframe \n",
    "x = pd.DataFrame(data = df.data, columns = ['chins', 'situps', 'jumps'])\n",
    "y = pd.DataFrame(data = df.target, columns = ['weight', 'waist', 'pulse'])\n",
    "\n",
    "######################################################################\n",
    "########                  Data Expoloration                   ########\n",
    "######################################################################\n",
    "print(\"Exercise Data\")\n",
    "print(x.head(3))\n",
    "print()\n",
    "print(\"Physiological Data\")\n",
    "print(y.head(3))\n",
    "print()\n",
    "print(\"Exercise Data Summary\")\n",
    "print(x.describe())\n",
    "print()\n",
    "print(\"Physiological Data Summary\")\n",
    "print(y.describe())\n",
    "print()\n",
    "print(\"Exercise Null Values\")\n",
    "print(x.isnull().sum())\n",
    "print()\n",
    "print(\"Physiological Null Values\")\n",
    "print(y.isnull().sum())"
   ]
  },
  {
   "cell_type": "code",
   "execution_count": 16,
   "metadata": {
    "collapsed": false
   },
   "outputs": [
    {
     "data": {
      "text/plain": [
       "0.82006107885377677"
      ]
     },
     "execution_count": 16,
     "metadata": {},
     "output_type": "execute_result"
    }
   ],
   "source": [
    "######################################################################\n",
    "########                 Random Forest Modeling               ########\n",
    "######################################################################\n",
    "\n",
    "### Initialize Random Forest object\n",
    "rf_multreg = ensemble.RandomForestRegressor(n_estimators=  500)\n",
    "\n",
    "### Fit the model on the data frame\n",
    "rf_multreg.fit(x, y)\n",
    "\n",
    "######## Model Scoring ########\n",
    "rf_multreg.score(x, y)"
   ]
  }
 ],
 "metadata": {
  "anaconda-cloud": {},
  "kernelspec": {
   "display_name": "Python [conda env:py36]",
   "language": "python",
   "name": "conda-env-py36-py"
  },
  "language_info": {
   "codemirror_mode": {
    "name": "ipython",
    "version": 3
   },
   "file_extension": ".py",
   "mimetype": "text/x-python",
   "name": "python",
   "nbconvert_exporter": "python",
   "pygments_lexer": "ipython3",
   "version": "3.6.2"
  }
 },
 "nbformat": 4,
 "nbformat_minor": 1
}
