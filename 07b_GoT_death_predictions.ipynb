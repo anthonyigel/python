{
 "cells": [
  {
   "cell_type": "code",
   "execution_count": null,
   "metadata": {
    "collapsed": false
   },
   "outputs": [],
   "source": [
    "##################################################\n",
    "### Author: Anthony Igel                       ###\n",
    "### Team: Category Management Transformation   ###\n",
    "### Project: Developing practical Python Tools ###\n",
    "### Purpose: GoT Character Deaths              ###\n",
    "### Date: 05/30/2018                           ###\n",
    "##################################################\n",
    "\n",
    "import sys\n",
    "assert sys.version_info.major == 3\n",
    "\n",
    "######################################################################\n",
    "########                     Import Modules                   ########\n",
    "######################################################################\n",
    "import py_effo as py_effo\n",
    "### pandas\n",
    "# Pandas is for structured data operations and manipulations, extensively used for data preparation,\n",
    "import pandas as pd\n",
    "\n",
    "### numpy\n",
    "# NumPy stands for Numerical Python, a library contains basic linear algebra functions, Fourier Transforms and advanced random\n",
    "# number capabilities\n",
    "import numpy as np\n",
    "\n",
    "### Scipy\n",
    "# Scipy performs a host of statistical calculations, built on top of Numpy, thus we do not need to import Numpy as all Numpy\n",
    "# functions are contained in Scipy\n",
    "# https://oneau.wordpress.com/2011/02/28/simple-statistics-with-scipy/\n",
    "import scipy as sp\n",
    "\n",
    "### sklearn\n",
    "# Sklearn contains basic statistical models\n",
    "# As well as a module to calculate model performance statistics\n",
    "from sklearn import datasets, svm, model_selection, tree, preprocessing, metrics\n",
    "from sklearn.linear_model import LogisticRegression\n",
    "import sklearn.ensemble as ske\n",
    "\n",
    "### Xgboost\n",
    "#from xgboost import plot_importance\n",
    "#from xgboost import XGBClassifier as XGBC\n",
    "\n",
    "### Statsmodels\n",
    "# Sklearn contains basic statistical models and data sets\n",
    "import statsmodels.api as sm\n",
    "\n",
    "### Seaborn\n",
    "# Seaborn is a Python visualization library based on Matplolib, providing high-level interface for statistcial graphing\n",
    "# Seaborn supports numpy and pandas data structures as well as statistical routines from scipy and statsmodels\n",
    "# Note: https://seaborn.pydata.org/introduction.html\n",
    "import seaborn as sns\n",
    "\n",
    "### Matplotlib\n",
    "# Matplotlib is a Python based plotting library with complete 2D support and limited 3D support\n",
    "%matplotlib inline\n",
    "import matplotlib as mlb\n",
    "import matplotlib.pyplot as plt\n",
    "import matplotlib.patches as mpatches\n",
    "sns.set_style(\"white\")\n",
    "\n",
    "### String\n",
    "# Allows for more flexible solutions for dealing with string characters\n",
    "import string as st\n",
    "\n",
    "from collections import Counter"
   ]
  },
  {
   "cell_type": "code",
   "execution_count": null,
   "metadata": {
    "collapsed": true
   },
   "outputs": [],
   "source": []
  },
  {
   "cell_type": "code",
   "execution_count": null,
   "metadata": {
    "collapsed": false
   },
   "outputs": [],
   "source": [
    "######################################################################\n",
    "########                     Import Data                      ########\n",
    "######################################################################\n",
    "\n",
    "### Import data sets\n",
    "character_deaths = pd.read_csv(\"//nfs/analysis/analysis/kroger/category_management_transformation/mini_hack_days/python/character_deaths.csv\")\n",
    "character_predictions = pd.read_csv(\"//nfs/analysis/analysis/kroger/category_management_transformation/mini_hack_days/python/character-predictions.csv\")\n",
    "\n",
    "### View top 10 records of the data frame\n",
    "character_predictions.head(10)"
   ]
  },
  {
   "cell_type": "code",
   "execution_count": null,
   "metadata": {
    "collapsed": true
   },
   "outputs": [],
   "source": [
    "######################################################################\n",
    "########                    Data Preparation                  ########\n",
    "######################################################################\n",
    "\n",
    "######## Column Manipulation ########\n",
    "\n",
    "### This will ensure that all column names are stripped of whitespace\n",
    "character_deaths.rename(columns = lambda x: x.strip(), inplace = True)\n",
    "character_predictions.rename(columns = lambda x: x.strip(), inplace = True)\n",
    "\n",
    "### We can also adjust the case of our metrics table columns\n",
    "character_deaths.rename(columns = lambda x: x.lower(), inplace = True)\n",
    "character_predictions.rename(columns = lambda x: x.lower(), inplace = True)\n",
    "\n",
    "######## New Attributes ########\n",
    "# 1. no_of_books – Number of books a character appeared in\n",
    "character_predictions.loc[:, \"no_of_books\"] = character_predictions[[x for x in character_predictions.columns if x.startswith(\"book\")]].sum(axis = 1)"
   ]
  },
  {
   "cell_type": "code",
   "execution_count": null,
   "metadata": {
    "collapsed": false
   },
   "outputs": [],
   "source": [
    "######################################################################\n",
    "########                    Data Exploration                  ########\n",
    "######################################################################\n",
    "\n",
    "######## Is there a relationship between survival and having dead relations?\n",
    "### Group by blood relations and mortal-status\n",
    "data = character_predictions.groupby([\"booldeadrelations\", \"isalive\"]).count()[\"s.no\"].unstack().copy(deep = True)\n",
    "p = data.div(data.sum(axis = 1), axis = 0).plot.barh(stacked = True, rot = 0, width = .5)\n",
    "_ = p.set_xlim([0, 1]), p.set(yticklabels = [\"No\", \"Yes\"], xticklabels = \"\", xlabel = \"Proportion of Dead vs. Alive\", ylabel = \"Has Dead Relations\"), p.legend([\"Dead\", \"Alive\"])\n",
    "plt.show()\n",
    "\n",
    "######## How does appearing in more books relate to survival\n",
    "### Group by number of books and mortal-status\n",
    "data = character_predictions.groupby([\"no_of_books\", \"isalive\"]).count()[\"s.no\"].unstack().copy(deep = True)\n",
    "p = data.div(data.sum(axis = 1), axis = 0).plot.barh(stacked = True, rot = 0, figsize = (15, 8), width = .5)\n",
    "_ = p.set(xticklabels = \"\", xlim = [0, 1], ylabel = \"No. of Books\", xlabel = \"Proportion of Dead vs. Alive\"), p.legend([\"Dead\", \"Alive\"], loc = \"upper right\", ncol = 2, borderpad = -.15)"
   ]
  },
  {
   "cell_type": "code",
   "execution_count": null,
   "metadata": {
    "collapsed": false
   },
   "outputs": [],
   "source": [
    "######## How does culture relate to survival?\n",
    "## Create parent-culture variable, mapping multiple cultures to a single over-arching culture\n",
    "cult = {\n",
    "    'Summer Islands': ['summer islands', 'summer islander', 'summer isles'],\n",
    "    'Ghiscari': ['ghiscari', 'ghiscaricari',  'ghis'],\n",
    "    'Asshai': [\"asshai'i\", 'asshai'],\n",
    "    'Lysene': ['lysene', 'lyseni'],\n",
    "    'Andal': ['andal', 'andals'],\n",
    "    'Braavosi': ['braavosi', 'braavos'],\n",
    "    'Dornish': ['dornishmen', 'dorne', 'dornish'],\n",
    "    'Myrish': ['myr', 'myrish', 'myrmen'],\n",
    "    'Westermen': ['westermen', 'westerman', 'westerlands'],\n",
    "    'Westerosi': ['westeros', 'westerosi'],\n",
    "    'Stormlander': ['stormlands', 'stormlander'],\n",
    "    'Norvoshi': ['norvos', 'norvoshi'],\n",
    "    'Northmen': ['the north', 'northmen'],\n",
    "    'Free Folk': ['wildling', 'first men', 'free folk'],\n",
    "    'Qartheen': ['qartheen', 'qarth'],\n",
    "    'Reach': ['the reach', 'reach', 'reachmen'],\n",
    "}\n",
    "\n",
    "### Create function to assign culture count \n",
    "def get_cult(value):\n",
    "    value = value.lower()\n",
    "    v = [k for (k, v) in cult.items() if value in v]\n",
    "    return v[0] if len(v) > 0 else value.title()\n",
    "\n",
    "### Assign culture to each character\n",
    "character_predictions.loc[:, \"culture\"] = [get_cult(x) for x in character_predictions.culture.fillna(\"\")]\n",
    "\n",
    "### Group by culture and mortal-status\n",
    "data = character_predictions.groupby([\"culture\", \"isalive\"]).count()[\"s.no\"].unstack().copy(deep = True)\n",
    "data.loc[:, \"total\"] = data.sum(axis = 1)\n",
    "p = data[data.index != \"\"].sort_values(\"total\")[[0, 1]].plot.barh(stacked = True, rot = 0, figsize = (14, 12),)\n",
    "_ = p.set(xlabel = \"No. of Characters\", ylabel = \"Culture\"), p.legend([\"Dead\", \"Alive\"], loc = \"lower right\")"
   ]
  },
  {
   "cell_type": "code",
   "execution_count": null,
   "metadata": {
    "collapsed": false
   },
   "outputs": [],
   "source": [
    "######################################################################\n",
    "########                   Data Manipulation                  ########\n",
    "######################################################################\n",
    "\n",
    "death_preds = character_predictions.copy(deep = True)\n",
    "\n",
    "eath_preds.loc[:, \"culture\"] = [get_cult(x) for x in death_preds.culture.fillna(\"\")]\n",
    "death_preds.loc[:, \"title\"] = pd.factorize(death_preds.title)[0]\n",
    "death_preds.loc[:, \"culture\"] = pd.factorize(death_preds.culture)[0]\n",
    "death_preds.loc[:, \"mother\"] = pd.factorize(death_preds.mother)[0]\n",
    "death_preds.loc[:, \"father\"] = pd.factorize(death_preds.father)[0]\n",
    "death_preds.loc[:, \"heir\"] = pd.factorize(death_preds.heir)[0]\n",
    "death_preds.loc[:, \"house\"] = pd.factorize(death_preds.house)[0]\n",
    "death_preds.loc[:, \"spouse\"] = pd.factorize(death_preds.spouse)[0]\n",
    "\n",
    "death_preds.drop([\"name\", \"alive\", \"pred\", \"plod\", \"isalive\", \"dateOfbirth\"], 1, inplace = True)\n",
    "death_preds.columns = map(lambda x: x.replace(\".\", \"\").replace(\"_\", \"\"), death_preds.columns)\n",
    "death_preds.fillna(value = -1, inplace = True)\n"
   ]
  },
  {
   "cell_type": "code",
   "execution_count": null,
   "metadata": {
    "collapsed": true
   },
   "outputs": [],
   "source": [
    "\n",
    "######################################################################\n",
    "########                Predictive Enviroment                 ########\n",
    "######################################################################"
   ]
  }
 ],
 "metadata": {
  "anaconda-cloud": {},
  "kernelspec": {
   "display_name": "Python [conda env:py36]",
   "language": "python",
   "name": "conda-env-py36-py"
  },
  "language_info": {
   "codemirror_mode": {
    "name": "ipython",
    "version": 3
   },
   "file_extension": ".py",
   "mimetype": "text/x-python",
   "name": "python",
   "nbconvert_exporter": "python",
   "pygments_lexer": "ipython3",
   "version": "3.6.2"
  }
 },
 "nbformat": 4,
 "nbformat_minor": 1
}
