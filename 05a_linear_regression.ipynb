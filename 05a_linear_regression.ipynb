{
 "cells": [
  {
   "cell_type": "code",
   "execution_count": null,
   "metadata": {
    "collapsed": true
   },
   "outputs": [],
   "source": [
    "##################################################\n",
    "### Author: Anthony Igel                       ###\n",
    "### Team: Category Management Transformation   ###\n",
    "### Project: Developing practical Python Tools ###\n",
    "### Purpose: Data Sampling                     ###\n",
    "### Date: 05/24/2018                           ###\n",
    "##################################################\n",
    "\n",
    "######################################################################\n",
    "########                     Import Modules                   ########\n",
    "######################################################################\n",
    "import py_effo as py_effo\n",
    "\n",
    "### pandas\n",
    "# Pandas is for structured data operations and manipulations, extensively used for data preparation\n",
    "import pandas as pd\n",
    "pd.set_option('compute.use_bottleneck', False)\n",
    "pd.set_option('compute.use_numexpr', False)\n",
    "\n",
    "### numpy\n",
    "# NumPy stands for Numerical Python, a library contains basic linear algebra functions, Fourier Transforms and advanced random\n",
    "# number capabilities\n",
    "import numpy as np \n",
    "\n",
    "### Scipy\n",
    "# Scipy performs a host of statistical calculations, built on top of Numpy, thus we do not need to import Numpy as all Numpy\n",
    "# functions are contained in Scipy\n",
    "# https://oneau.wordpress.com/2011/02/28/simple-statistics-with-scipy/\n",
    "import scipy as sp\n",
    "\n",
    "\n",
    "### sklearn\n",
    "# Sklearn contains basic statistical models\n",
    "from sklearn.linear_model import LinearRegression\n",
    "from sklearn.model_selection  import train_test_split\n",
    "# As well as a module to calculate model performance statistics\n",
    "from sklearn import metrics\n",
    "\n",
    "### Statsmodels\n",
    "import statsmodels.formula.api as sm\n",
    "\n",
    "### Matplotlib\n",
    "# Matplotlib is a Python based plotting library with complete 2D support and limited 3D support\n",
    "%matplotlib inline\n",
    "import matplotlib as mlb\n",
    "import matplotlib.pyplot as plt\n",
    "\n",
    "### Seaborn\n",
    "# Seaborn is a Python visualization library based on Matplolib, providing high-level interface for statistcial graphing\n",
    "# Seaborn supports numpy and pandas data structures as well as statistical routines from scipy and statsmodels\n",
    "# Note: https://seaborn.pydata.org/introduction.html\n",
    "import seaborn as sns\n",
    "\n",
    "### String\n",
    "# Allows for more flexible solutions for dealing with string characters\n",
    "import string as st\n"
   ]
  },
  {
   "cell_type": "code",
   "execution_count": null,
   "metadata": {
    "collapsed": false
   },
   "outputs": [],
   "source": [
    "######################################################################\n",
    "########                     Import Data                      ########\n",
    "######################################################################\n",
    "\n",
    "### Advertising Data\n",
    "## data_link = \"http://www-bcf.usc.edu/~gareth/ISL/Advertising.csv\"\n",
    "advertising = pd.read_csv(\"/nfs/analysis/analysis/kroger/category_management_transformation/mini_hack_days/python/Advertising.csv\")\n",
    "\n",
    "######################################################################\n",
    "########                  Data Expoloration                   ########\n",
    "######################################################################\n",
    "\n",
    "### Let's determine how the data types look for this data frame\n",
    "print('Data Type Information')\n",
    "print(advertising.info())\n",
    "print()\n",
    "### View descriptive statistics about data set\n",
    "print('Descriptive Statistics of Advertising Data')\n",
    "print(advertising.describe())\n",
    "print()\n",
    "### View if any of our data is null\n",
    "print('Summary of Nulls in Advertising Data')\n",
    "print(advertising.isnull().sum())"
   ]
  },
  {
   "cell_type": "code",
   "execution_count": null,
   "metadata": {
    "collapsed": false
   },
   "outputs": [],
   "source": [
    "######################################################################\n",
    "########                  Data Preparation                    ########\n",
    "######################################################################\n",
    "\n",
    "### This will ensure that all column names are stripped of whitespace\n",
    "\n",
    "### The lambda operator or lambda function is a way to create small anonymous functions, as seen below\n",
    "\n",
    "advertising.rename(columns = lambda x: x.strip(), inplace = True)\n",
    "\n",
    "### We can also adjust the case of our metrics table columns\n",
    "advertising.rename(columns = lambda x: x.lower(), inplace = True)\n",
    "\n",
    "### We will want to separate the sales data, since we are trying to predict it based off our features\n",
    "### Let's create a Python list of feature names\n",
    "feature_names = ['tv', 'radio', 'newspaper']\n",
    "\n",
    "### We can use the Python list we just created to create a data frame comprised of our independent variables\n",
    "x = advertising[feature_names]\n",
    "\n",
    "### Let's create a vector of our dependent variable\n",
    "y = advertising.sales\n",
    "\n",
    "### View dependent and independent variables\n",
    "print(\"Dependent Variables\")\n",
    "print(x.head(3))\n",
    "print()\n",
    "print(\"Independent Variables\")\n",
    "print(y.head(3))"
   ]
  },
  {
   "cell_type": "code",
   "execution_count": null,
   "metadata": {
    "collapsed": false
   },
   "outputs": [],
   "source": [
    "######## Data Splitting ########\n",
    "\n",
    "### We want to split our independent and dependent data sets into training and testing\n",
    "### train_test_split is a function from the sklearn.model_selection module\n",
    "x_train, x_test, y_train, y_test = train_test_split(x, y, random_state = 1)\n",
    "\n",
    "print('Dependent Variables')\n",
    "print('Training: ' + str(len(x_train)))\n",
    "print('Testing: ' + str(len(x_test)))\n",
    "print()\n",
    "print('Independent Variables')\n",
    "print('Training: ' + str(len(y_train)))\n",
    "print('Testing: ' + str(len(y_test)))"
   ]
  },
  {
   "cell_type": "code",
   "execution_count": null,
   "metadata": {
    "collapsed": false
   },
   "outputs": [],
   "source": [
    "######################################################################\n",
    "########                     Modeling                         ########\n",
    "######################################################################\n",
    "\n",
    "### From the sklearn module we need to define our LinearRegression model as a variable object\n",
    "linreg = LinearRegression()\n",
    "\n",
    "### Fit the model to the training set, as to learn the coefficients\n",
    "linreg.fit(x_train, y_train)\n",
    "\n",
    "### Then we can make predictions on the testing set\n",
    "y_pred = linreg.predict(x_test)\n",
    "\n",
    "######## Model Evaluations ########\n",
    "\n",
    "### Compute the RMSE of our predictions\n",
    "rsme_1 = np.sqrt(metrics.mean_squared_error(y_test, y_pred))\n",
    "print('RMSE: '+ str(np.sqrt(metrics.mean_squared_error(y_test, y_pred))))"
   ]
  },
  {
   "cell_type": "code",
   "execution_count": null,
   "metadata": {
    "collapsed": true
   },
   "outputs": [],
   "source": [
    "######################################################################\n",
    "########                 Feature Selection                    ########\n",
    "######################################################################\n",
    "\n",
    "### Hypothesis: Newspaper does not improve the quality of our predictions\n",
    "### Next step: remove newspaper from the model and verify if the RMSE is lower\n",
    "# Aim to minimize RSME since this would indicate that the error is lower\n",
    "\n",
    "### We will want to separate the sales data, since we are trying to predict it based off our features\n",
    "### Let's create a Python list of feature names\n",
    "feature_names_v2 = ['tv', 'radio']\n",
    "\n",
    "### We can use the Python list we just created to create a data frame comprised of our independent variables\n",
    "x2 = advertising[feature_names_v2]\n",
    "\n",
    "### Let's create a vector of our dependent variable\n",
    "y2 = advertising.sales\n",
    "\n",
    "### We want to split our independent and dependent data sets into training and testing\n",
    "x2_train, x2_test, y2_train, y2_test = train_test_split(x2, y2, random_state = 1)"
   ]
  },
  {
   "cell_type": "code",
   "execution_count": null,
   "metadata": {
    "collapsed": false
   },
   "outputs": [],
   "source": [
    "######################################################################\n",
    "########                     Modeling                         ########\n",
    "######################################################################\n",
    "\n",
    "### Fit the model to the training set, as to learn the coefficients\n",
    "linreg.fit(x2_train, y2_train)\n",
    "\n",
    "### Then we can make predictions on the testing set\n",
    "y2_pred = linreg.predict(x2_test)\n",
    "\n",
    "######## Model Evaluations ########\n",
    "\n",
    "### Compute the RMSE of our predictions\n",
    "### Compute the RMSE of our predictions\n",
    "rsme_2 = np.sqrt(metrics.mean_squared_error(y2_test, y2_pred))\n",
    "print('RMSE_v2: '+ str(np.sqrt(metrics.mean_squared_error(y2_test, y2_pred))))\n",
    "print()\n",
    "\n",
    "### Compare RSME of Models\n",
    "rsme_compare = {'RSME_v1' : rsme_1 , 'RSME_v2' : rsme_2}\n",
    "\n",
    "print(rsme_compare)"
   ]
  },
  {
   "cell_type": "code",
   "execution_count": null,
   "metadata": {
    "collapsed": false
   },
   "outputs": [],
   "source": [
    "### Identify which RSME is better using a boolean operator\n",
    "rsme_1 > rsme_2"
   ]
  }
 ],
 "metadata": {
  "anaconda-cloud": {},
  "kernelspec": {
   "display_name": "Python [conda env:py36]",
   "language": "python",
   "name": "conda-env-py36-py"
  },
  "language_info": {
   "codemirror_mode": {
    "name": "ipython",
    "version": 3
   },
   "file_extension": ".py",
   "mimetype": "text/x-python",
   "name": "python",
   "nbconvert_exporter": "python",
   "pygments_lexer": "ipython3",
   "version": "3.6.2"
  }
 },
 "nbformat": 4,
 "nbformat_minor": 1
}
