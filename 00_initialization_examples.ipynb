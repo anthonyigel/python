{
 "cells": [
  {
   "cell_type": "code",
   "execution_count": null,
   "metadata": {
    "collapsed": true
   },
   "outputs": [],
   "source": [
    "##################################################\n",
    "### Author: Anthony Igel                       ###\n",
    "### Team: Category Management Transformation   ###\n",
    "### Project: Developing practical Python Tools ###\n",
    "### Purpose: Initialize Python skills          ###\n",
    "### Date: 05/21/2018                           ###\n",
    "##################################################\n",
    "\n",
    "### This aims to serve as a stepping stone for more sophisticated Python exercises\n",
    "### Examples come from \"Automate The Boring Stuff With Python\", by Al Sweigart\n",
    "#################################################################################################################################"
   ]
  },
  {
   "cell_type": "code",
   "execution_count": null,
   "metadata": {
    "collapsed": true
   },
   "outputs": [],
   "source": [
    "######## Integer, Floating-Point, and String data types ########\n",
    "# Strings should always be surrounded by a single quote (')\n",
    "# Errors that read 'SyntaxError: EOL while scanning string' indicates that a single quote is missing\n",
    "'Hello World!'"
   ]
  },
  {
   "cell_type": "code",
   "execution_count": null,
   "metadata": {
    "collapsed": false
   },
   "outputs": [],
   "source": [
    "######## String Concatentations and Replications ########\n",
    "# Python works very similarly to r and SQL\n",
    "'This' + ' ' + 'is' + ' ' + 'a' + ' ' + 'sentence.'"
   ]
  },
  {
   "cell_type": "code",
   "execution_count": null,
   "metadata": {
    "collapsed": false
   },
   "outputs": [],
   "source": [
    "# Order of Operations in Python, referred to as precedence, are identical to their mathematical properties\n",
    "print(2 + 3 * 6)\n",
    "print() # \"print()\" will print a blank row\n",
    "print('vs.')\n",
    "print()\n",
    "print((2+3) * 6)"
   ]
  },
  {
   "cell_type": "code",
   "execution_count": null,
   "metadata": {
    "collapsed": false
   },
   "outputs": [],
   "source": [
    "# Remember not to mix integers and strings with mathematical operators, excluding integer multiplation\n",
    "'Python' + 3.2"
   ]
  },
  {
   "cell_type": "code",
   "execution_count": null,
   "metadata": {
    "collapsed": false
   },
   "outputs": [],
   "source": [
    "'Python' * 5"
   ]
  },
  {
   "cell_type": "code",
   "execution_count": null,
   "metadata": {
    "collapsed": true
   },
   "outputs": [],
   "source": [
    "######################################################################"
   ]
  },
  {
   "cell_type": "code",
   "execution_count": null,
   "metadata": {
    "collapsed": false
   },
   "outputs": [],
   "source": [
    "######################################################################\n",
    "########                 Assignment of Variables              ########\n",
    "######################################################################\n",
    "\n",
    "### Assignment of Variables (Macro Variables) can be done with an assignment statement\n",
    "# spam = 42 is like telling the program \"the variable spam now has the integer value 42\"\n",
    "spam = 40\n",
    "eggs = 2\n",
    "print(spam + eggs)\n",
    "\n",
    "# Variables are initialized the first time a value is stored in it, however they will dynamically update as the script progresses\n",
    "spam = 'hello'\n",
    "print(spam)\n",
    "\n",
    "# Variable names can only be one word, it cannot begin with a number but it can use numbers, letters and \n",
    "# the underscore character (_)\n",
    "# Variable names ARE case-sensitive"
   ]
  },
  {
   "cell_type": "code",
   "execution_count": null,
   "metadata": {
    "collapsed": false
   },
   "outputs": [],
   "source": [
    "######################################################################\n",
    "########                  Simple Programs                     ########\n",
    "######################################################################\n",
    "\n",
    "### Simple Program ###\n",
    "# This program sayus hello and asks for my name\n",
    "print('Hello world!')\n",
    "print('What is your name?') # asks for their name\n",
    "myName = input()\n",
    "print('It is good to meet you, ' + myName)\n",
    "print('The length of your name is:')\n",
    "print(len(myName))\n",
    "print('What is your age?') # asks for their age\n",
    "myAge = input()\n",
    "print('you will be ' + str(int(myAge) + 1) + ' in a year')"
   ]
  },
  {
   "cell_type": "code",
   "execution_count": null,
   "metadata": {
    "collapsed": false
   },
   "outputs": [],
   "source": [
    "######################################################################\n",
    "########                    Boolean Operators                 ########\n",
    "######################################################################\n",
    "\n",
    "### There are three boolean operators (and, or and not), they are used to compare Boolean values\n",
    "### Like comparison operators\n",
    "\n",
    "### Binary Boolean Operators (and, or) always take two Boolean values, which is why they're considered binary operators\n",
    "### The (not) operator operators on only one Boolean value at a time and simply evaluates to the opposite Boolean value\n",
    "\n",
    "######## And ########\n",
    "print(True and True)\n",
    "print(True and False)\n",
    "print(False and True)\n",
    "print(False and False)\n",
    "print()\n",
    "\n",
    "######## Or ########\n",
    "print(True or True)\n",
    "print(True or False)\n",
    "print(False or True)\n",
    "print(False or False)\n",
    "print()\n",
    "\n",
    "######## Not ######## \n",
    "print(not True)\n",
    "print(not False)"
   ]
  },
  {
   "cell_type": "code",
   "execution_count": null,
   "metadata": {
    "collapsed": false
   },
   "outputs": [],
   "source": [
    "######## Mixing Boolean and Comparison Operators ########\n",
    "print((4 < 5) and (5 < 6))\n",
    "print()\n",
    "print((4 < 5) and (9 < 6))\n",
    "print()\n",
    "print((4 == 5) or (2 == 2))"
   ]
  },
  {
   "cell_type": "code",
   "execution_count": null,
   "metadata": {
    "collapsed": false
   },
   "outputs": [],
   "source": [
    "######################################################################\n",
    "########              Elements of Flow Control                ########\n",
    "######################################################################\n",
    "\n",
    "### Flow control statements often start with a condition and are follwed by a block of code which is called the clause\n",
    "\n",
    "######## Condition Statements ########\n",
    "### Condition statements always evaluate down to a Boolenan value, the clause block evaluates the outcome of the Boolean \n",
    "### condition\n",
    "\n",
    "### Blocks of code follow three basic rules\n",
    "# 1. Blocks begin when the indentation increases\n",
    "# 2. Blocks can contain other blocks\n",
    "# 3. Blocks end when the indentation decreases to zero or to a containing block's indentation\n",
    "\n",
    "# Example -- DO NOT RUN\n",
    "if name == 'Mary':\n",
    "    print('Hello, Mary')\n",
    "    if password == 'swordfish':\n",
    "        print('Access granted.')\n",
    "    else:\n",
    "        print('Wrong password.')\n",
    "        \n",
    "### Else if statements are identified using 'elif'\n",
    "# Example -- DO NOT RUN\n",
    "if name == 'Alice':\n",
    "    print('Hi, Alice/')\n",
    "elif age < 12:\n",
    "    print('You are not Alice, kiddo.')"
   ]
  },
  {
   "cell_type": "code",
   "execution_count": null,
   "metadata": {
    "collapsed": false
   },
   "outputs": [],
   "source": [
    "######## Elif ########\n",
    "### Elif statemtments can be chained, however once a elif statements' conditions is found to be true, the subsequent conditions\n",
    "### will be skipped. Ordering the chained elif statements properly is of paramount importance\n",
    "\n",
    "# Example -- DO NOT RUN\n",
    "if name == 'Alice':\n",
    "    print('Hi, Alice.')\n",
    "elif age < 12:\n",
    "    print('You are not Alice, kiddo.')\n",
    "elif age > 2000:\n",
    "    print('Unlike you, Alice is not an undead, immortal vampire.')\n",
    "elif age > 100:\n",
    "    print('You are not Alice, grannie')\n",
    "else:\n",
    "    print('You are neither Alice nor a little kid')"
   ]
  },
  {
   "cell_type": "code",
   "execution_count": null,
   "metadata": {
    "collapsed": false
   },
   "outputs": [],
   "source": [
    "######## (while) Loop Statements ########\n",
    "### (while) statments look similar to (if) statements but their evaluation behavior is different. An (if) statement continues\n",
    "### continues after the (if) statement is evaluated, a (while) condition continues to evaluate iteratively\n",
    "\n",
    "# Example\n",
    "spam = 0\n",
    "if spam < 5:\n",
    "    print('Hello, world.')\n",
    "    spam = spam + 1\n",
    "\n",
    "print()\n",
    "spam = 0\n",
    "while spam < 5:\n",
    "    print('Hello, world.')\n",
    "    spam = spam + 1"
   ]
  },
  {
   "cell_type": "code",
   "execution_count": null,
   "metadata": {
    "collapsed": false
   },
   "outputs": [],
   "source": [
    "#### Example - Annoying (while) loop \n",
    "name = ''\n",
    "while name != 'your name':\n",
    "    print('Please type your name')\n",
    "    name = input()\n",
    "print('Thank you!')"
   ]
  },
  {
   "cell_type": "code",
   "execution_count": null,
   "metadata": {
    "collapsed": false
   },
   "outputs": [],
   "source": [
    "######## (break) Statements ########\n",
    "### (break) statements are used as a shortcut for getting the program execution to break out of a (while) loop's clause early\n",
    "### a (break) statement simply contains the word 'break'\n",
    "# Example \n",
    "while True:\n",
    "    print('Please type your name')\n",
    "    name = input()\n",
    "    if name == 'your name':\n",
    "        break\n",
    "print('Thank you!')\n",
    "\n",
    "# The first line of that program creates an infinite loop, a loop whose condition is always true, and will only break if the\n",
    "# condition evalutes as false, otherwise the loop continues"
   ]
  },
  {
   "cell_type": "code",
   "execution_count": null,
   "metadata": {
    "collapsed": false
   },
   "outputs": [],
   "source": [
    "######## (continue) ########\n",
    "### (continue) statements are like(break) statements and are used inside loops. When the program reaches the (continue) \n",
    "### statement, the program execution immediately jumps back to the start of the loop and reevaluates the loop's condition\n",
    "\n",
    "# Example\n",
    "while True:\n",
    "    print('Who are you?')\n",
    "    name = input()\n",
    "    if name != 'Joe':\n",
    "        continue\n",
    "    print('Hello, Joe. What is the password? (It is a fish.)')\n",
    "    password = input()\n",
    "    if password == 'swordfish':\n",
    "        break\n",
    "print('Access granted.')"
   ]
  },
  {
   "cell_type": "code",
   "execution_count": null,
   "metadata": {
    "collapsed": false
   },
   "outputs": [],
   "source": [
    "######## (for) Loops and the (range()) function ########\n",
    "### (while) loops keep looping while its condition is True, but if you want to execute a block of code a certain amount of \n",
    "### times, you can do this with a (for) and the (range()) functions.\n",
    "\n",
    "# Example\n",
    "print('My name is')\n",
    "for i in range(5):\n",
    "    print('Jimmy Five Times (' + str(i) + ')')\n",
    "\n",
    "# The variable i will go up to, but will not include, the integer passed into (range())\n",
    "\n",
    "### You can use (break) and (continue) statements inside of (for) loops as well"
   ]
  },
  {
   "cell_type": "code",
   "execution_count": null,
   "metadata": {
    "collapsed": false
   },
   "outputs": [],
   "source": [
    "### If someone asked you to add up all the numbers from 0 to 100, you can do this using a (for) loop\n",
    "\n",
    "# Example\n",
    "total = 0\n",
    "for num in range(101):\n",
    "    total = total + num\n",
    "print(total)"
   ]
  },
  {
   "cell_type": "code",
   "execution_count": null,
   "metadata": {
    "collapsed": false
   },
   "outputs": [],
   "source": [
    "### You can also utilize (while) loops to do the same things as a (for) loop, (for) loops are just more concise\n",
    "\n",
    "# Example\n",
    "print('My name is')\n",
    "i = 0\n",
    "while i < 5:\n",
    "    print('Jimmy Five Times (' + str(i) + ')')\n",
    "    i = i + 1"
   ]
  },
  {
   "cell_type": "code",
   "execution_count": null,
   "metadata": {
    "collapsed": false
   },
   "outputs": [],
   "source": [
    "######## Starting, Stopping and Stepping arguments ########\n",
    "### Some functions are called with multiple arguments separated by a comma\n",
    "\n",
    "# Example\n",
    "for i in range(12, 16):\n",
    "    print(i)\n",
    "\n",
    "print()\n",
    "### The (range()) function can be used with three arguments, the first and second values as the starting and stopping values, and\n",
    "### the third value is the amount that variable is increased by after each iteration\n",
    "\n",
    "# Example\n",
    "for i in range(0, 10, 2):\n",
    "    print(i)\n",
    "    \n",
    "print()\n",
    "### Negatives values can also be used in any argument of the (range()) function\n",
    "\n",
    "# Example\n",
    "for i in range(5, -1, -1):\n",
    "    print(i)"
   ]
  },
  {
   "cell_type": "code",
   "execution_count": null,
   "metadata": {
    "collapsed": false
   },
   "outputs": [],
   "source": [
    "######################################################################\n",
    "########                 Importing Modules                    ########\n",
    "######################################################################\n",
    "### All Python programs can call a basic set of functions, identified as \"bulit-in functions\"\n",
    "### print(), input(), len() are all standard functions but Python is built with a set of modules called the \"standard library\"\n",
    "### The import statement consists of the following\n",
    "# 1. The import keyword\n",
    "# 2. The name of the module\n",
    "# 3. Additional modules that are comma-separated\n",
    "\n",
    "######## Import Random Module ######## \n",
    "### Exploring the Random module, the function randint will call a random integer for each iteration of i in the specified range\n",
    "\n",
    "# Example\n",
    "import random\n",
    "for i in range(5):\n",
    "    print(random.randint(1, 10))\n",
    "    \n",
    "# Example\n",
    "import random, sys, os, math"
   ]
  },
  {
   "cell_type": "code",
   "execution_count": null,
   "metadata": {
    "collapsed": false
   },
   "outputs": [],
   "source": [
    "######################################################################\n",
    "########               Terminating a Program                 ########\n",
    "######################################################################\n",
    "### Programs can be terminated early by calling the sys.exit() function\n",
    "### Since this function is in the sys module, you must first import the module to use it\n",
    "\n",
    "# Example\n",
    "import sys\n",
    "\n",
    "while True:\n",
    "    print('Type exit to exit')\n",
    "    response = input()\n",
    "    if response == 'exit':\n",
    "        sys.exit()\n",
    "    print('You typed ' + response + '.')"
   ]
  }
 ],
 "metadata": {
  "anaconda-cloud": {},
  "kernelspec": {
   "display_name": "Python [conda env:py36]",
   "language": "python",
   "name": "conda-env-py36-py"
  },
  "language_info": {
   "codemirror_mode": {
    "name": "ipython",
    "version": 3
   },
   "file_extension": ".py",
   "mimetype": "text/x-python",
   "name": "python",
   "nbconvert_exporter": "python",
   "pygments_lexer": "ipython3",
   "version": "3.6.2"
  }
 },
 "nbformat": 4,
 "nbformat_minor": 1
}
