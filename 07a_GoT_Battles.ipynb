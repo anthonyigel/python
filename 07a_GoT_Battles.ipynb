{
 "cells": [
  {
   "cell_type": "code",
   "execution_count": null,
   "metadata": {
    "collapsed": false
   },
   "outputs": [],
   "source": [
    "##################################################\n",
    "### Author: Anthony Igel                       ###\n",
    "### Team: Category Management Transformation   ###\n",
    "### Project: Developing practical Python Tools ###\n",
    "### Purpose: GoT Battles                       ###\n",
    "### Date: 05/29/2018                           ###\n",
    "##################################################\n",
    "\n",
    "# https://github.com/chrisalbon/war_of_the_five_kings_dataset/blob/master/greatest_commander_analysis.ipynb\n",
    "\n",
    "import sys\n",
    "assert sys.version_info.major == 3\n",
    "\n",
    "######################################################################\n",
    "########                     Import Modules                   ########\n",
    "######################################################################\n",
    "\n",
    "import py_effo as py_effo\n",
    "### pandas\n",
    "# Pandas is for structured data operations and manipulations, extensively used for data preparation,\n",
    "import pandas as pd\n",
    "\n",
    "### numpy\n",
    "# NumPy stands for Numerical Python, a library contains basic linear algebra functions, Fourier Transforms and advanced random\n",
    "# number capabilities\n",
    "import numpy as np\n",
    "\n",
    "### Seaborn\n",
    "# Seaborn is a Python visualization library based on Matplolib, providing high-level interface for statistcial graphing\n",
    "# Seaborn supports numpy and pandas data structures as well as statistical routines from scipy and statsmodels\n",
    "# Note: https://seaborn.pydata.org/introduction.html\n",
    "import seaborn as sns\n",
    "\n",
    "### Collections\n",
    "from collections import Counter\n",
    "\n",
    "### Matplotlib\n",
    "# Matplotlib is a Python based plotting library with complete 2D support and limited 3D support\n",
    "import matplotlib as mpl\n",
    "import matplotlib.pyplot as plt\n",
    "import matplotlib.patches as mpatches\n",
    "sns.set_style(\"white\")\n",
    "\n",
    "%matplotlib inline"
   ]
  },
  {
   "cell_type": "code",
   "execution_count": null,
   "metadata": {
    "collapsed": false
   },
   "outputs": [],
   "source": [
    "######################################################################\n",
    "########                     Import Data                      ########\n",
    "######################################################################\n",
    "\n",
    "### Import data sets\n",
    "battles = pd.read_csv(\"//nfs/analysis/analysis/kroger/category_management_transformation/mini_hack_days/python/battles.csv\")\n",
    "### View the top rows of df.battles\n",
    "battles.head(3)"
   ]
  },
  {
   "cell_type": "code",
   "execution_count": null,
   "metadata": {
    "collapsed": true
   },
   "outputs": [],
   "source": [
    "######################################################################\n",
    "########                    Data Preparation                  ########\n",
    "######################################################################\n",
    "\n",
    "######## Column Manipulation ########\n",
    "### This will ensure that all column names are stripped of whitespace\n",
    "battles.rename(columns = lambda x: x.strip(), inplace = True)\n",
    "### We can also adjust the case of our metrics table columns\n",
    "battles.rename(columns = lambda x: x.lower(), inplace = True)\n",
    "\n",
    "######## New Attributes ########\n",
    "# 1. defender_count – Number of major houses on defending side\n",
    "# 2. attacker_count – Number of major houses on attacking side\n",
    "# 3. att_comm_count – Number of commanders on attacking side\n",
    "\n",
    "battles.loc[:, \"defender_count\"] = (4 - battles[[\"defender_1\", \"defender_2\", \"defender_3\", \"defender_4\"]].isnull().sum(axis = 1))\n",
    "battles.loc[:, \"attacker_count\"] = (4 - battles[[\"attacker_1\", \"attacker_2\", \"attacker_3\", \"attacker_4\"]].isnull().sum(axis = 1))\n",
    "battles.loc[:, \"att_comm_count\"] = [len(x) if type(x) == list else np.nan for x in battles.attacker_commander.str.split(\",\")]\n",
    "\n",
    "### Can we write a function to do this\n",
    "battles[\"major_death\"] = battles[\"major_death\"].fillna(\"\")\n",
    "battles[\"major_death\"] = pd.to_numeric(battles.major_death, errors='coerce')\n",
    "\n",
    "battles[\"major_capture\"] = battles[\"major_capture\"].fillna(\"\")\n",
    "battles[\"major_capture\"] = pd.to_numeric(battles.major_capture, errors='coerce')\n",
    "\n",
    "battles[\"attacker_size\"] = battles[\"attacker_size\"].fillna(\"\")\n",
    "battles[\"attacker_size\"] = pd.to_numeric(battles.attacker_size, errors='coerce')\n",
    "\n",
    "battles[\"defender_size\"] = battles[\"defender_size\"].fillna(\"\")\n",
    "battles[\"defender_size\"] = pd.to_numeric(battles.defender_size, errors='coerce')\n",
    "\n",
    "### Coerce data types for numeric variables\n",
    "numerics = [\"major_death\", \"major_capture\", \"attacker_size\", \"defended_size\"]"
   ]
  },
  {
   "cell_type": "code",
   "execution_count": null,
   "metadata": {
    "collapsed": false
   },
   "outputs": [],
   "source": [
    "######################################################################\n",
    "########                   Data Exploration                   ########\n",
    "######################################################################\n",
    "\n",
    "### Major death/capture events by year\n",
    "p = battles.groupby('year').sum()[[\"major_death\", \"major_capture\"]].plot.bar(rot = 0)\n",
    "_ = p.set(xlabel = \"Year\", ylabel = \"No. of Death/Capture Events\", ylim = (0, 9)), p.legend([\"Major Deaths\", \"Major Captures\"])\n",
    "plt.show()\n",
    "\n",
    "### How many houses were on the attacking side?\n",
    "p = battles.attacker_count.value_counts().sort_index().plot.bar(rot = 0)\n",
    "_ = p.set(xlabel = \"No. of Major Attacker Houses\", ylabel = \"Count\")\n",
    "plt.show()\n",
    "\n",
    "### Which pairs fought the most battles?\n",
    "# Ignoring records where either attacker_king or defender_king is null. Also ignoring one record where both have the same value.\n",
    "c = list(Counter([tuple(set(x)) for x in battles.dropna(subset = [\"attacker_king\", \"defender_king\"])[[\"attacker_king\", \"defender_king\"]].values if len(set(x)) > 1]).items())\n",
    "p = pd.DataFrame(c).sort_values(1).plot.barh(figsize = (10, 6))\n",
    "_ = p.set(yticklabels = [\"%s vs. %s\" % (x[0], x[1]) for x in list(zip(*c))[0]], xlabel = \"No. of Battles\"), p.legend(\"\")\n",
    "\n",
    "### How many commanders did armies of different kings have?\n",
    "q = sns.boxplot(\"att_comm_count\", \"attacker_king\", data = battles, saturation = .6, fliersize = 10., palette = [\"lightgray\", sns.color_palette()[1], \"grey\", \"darkblue\"])\n",
    "_ = q.set(xlabel = \"No. of Attacker Commanders\", ylabel = \"Attacker King\", xticks = range(8))\n",
    "plt.show()\n",
    "\n",
    "### How many major death/capture events occured in each region\n",
    "data = battles.groupby(\"region\").sum()[[\"major_death\", \"major_capture\"]]\n",
    "p = pd.concat([data, battles.region.value_counts().to_frame()], axis = 1).sort_values(\"region\", ascending = False).copy(deep = True).plot.bar(color = [sns.color_palette()[1], \"grey\", \"darkblue\"], rot = 0)\n",
    "_ = p.set(xlabel = \"Region\", ylabel = \"No. of Events\"), p.legend([\"Major Deaths\", \"Major Captures\", \"No. of Battles\"], fontsize = 12.)\n",
    "plt.show()"
   ]
  },
  {
   "cell_type": "code",
   "execution_count": null,
   "metadata": {
    "collapsed": false
   },
   "outputs": [],
   "source": [
    "######## Do larger armies always win? ########\n",
    "### Create subset void of null values\n",
    "data = battles.dropna(subset = [\"attacker_size\", \"defender_size\"]).copy(deep = True)\n",
    "\n",
    "### Create new data frame with calculation and join back together\n",
    "data = pd.concat([(data.attacker_size - data.defender_size).to_frame(), battles[[\"attacker_outcome\"]]], axis = 1, join = \"inner\")\n",
    "data = data[data[0] != 0]\n",
    "\n",
    "### Plot results\n",
    "p = data[0].plot.barh(figsize = (12, 8), width = .8, color = [sns.color_palette()[0] if x == \"win\" else sns.color_palette()[2] if x == \"loss\" else \"white\" for x in data.attacker_outcome.values])\n",
    "_ = p.legend(handles = [mpatches.Patch(color = sns.color_palette()[0], label = \"Victory\", aa = True), mpatches.Patch(color = sns.color_palette()[2], label = \"Loss\", aa = True)])\n",
    "_ = p.axvline(0, color = 'k'), p.set(yticklabels = battles.name.iloc[data.index].values, xlabel = \"Difference in Army Size (attacker_size - defender_size)\", ylabel = \"Battle Name\")"
   ]
  },
  {
   "cell_type": "code",
   "execution_count": null,
   "metadata": {
    "collapsed": true
   },
   "outputs": [],
   "source": [
    "######################################################################\n",
    "########                   Data Manipulation                  ########\n",
    "######################################################################\n",
    "\n",
    "######## Create a list of attacking commanders ########\n",
    "attacker_list = []\n",
    "\n",
    "# For each row in df.attacker_commander,\n",
    "for row in battles['attacker_commander']:\n",
    "    # if the cell is a string,\n",
    "    if type(row) == str:\n",
    "        # split up the names by the comma, \n",
    "        # and attach it to attacker commander list,\n",
    "       attacker_list.append(row.split(','))\n",
    "    # otherwise,     \n",
    "    else:\n",
    "        # do nothing\n",
    "        continue\n",
    "\n",
    "######## Create a list of defending commanders ########\n",
    "defender_list = []\n",
    "        \n",
    "# For each row in df.defender_commander,\n",
    "for row in battles['defender_commander']:\n",
    "    # if the cell is a string,\n",
    "    if type(row) == str:\n",
    "        # split up the names by the comma, \n",
    "        # and attach it to defender commander list,\n",
    "       defender_list.append(row.split(','))\n",
    "    # otherwise\n",
    "    else:\n",
    "        # do nothing\n",
    "        defender_list.append('')"
   ]
  },
  {
   "cell_type": "code",
   "execution_count": null,
   "metadata": {
    "collapsed": true
   },
   "outputs": [],
   "source": [
    "######## Create a list of commanders ########\n",
    "commander = []\n",
    "\n",
    "# For each list in attacker_list,\n",
    "for row in attacker_list:\n",
    "    # and each list in that list\n",
    "    for element in row:\n",
    "        # strip of any leading blank space \n",
    "        # and append it to the commander list\n",
    "        commander.append(element.lstrip())\n",
    "\n",
    "# For each list in defender_list,\n",
    "for row in defender_list:\n",
    "    # and each list in that list\n",
    "    for element in row:\n",
    "        # strip of any leading blank space \n",
    "        # and append it to the commander list\n",
    "        commander.append(element.lstrip())"
   ]
  },
  {
   "cell_type": "code",
   "execution_count": null,
   "metadata": {
    "collapsed": false
   },
   "outputs": [],
   "source": [
    "### Convert the commander list into a \n",
    "## set of unique names, and convert it to a list\n",
    "commanders = list(set(commander))\n",
    "\n",
    "# Display the total number of commanders in the list\n",
    "len(commanders)"
   ]
  },
  {
   "cell_type": "code",
   "execution_count": null,
   "metadata": {
    "collapsed": true
   },
   "outputs": [],
   "source": [
    "######## Count the number of times a commander successfully attacked ########\n",
    "\n",
    "# Create a list\n",
    "attack_win = []\n",
    "\n",
    "# for each commander:\n",
    "for row in commanders:\n",
    "    # create a score variable, then\n",
    "    score = 0\n",
    "    # go through each cell of attacker commander where the attacker wins:\n",
    "    for x in battles['attacker_commander'][battles['attacker_outcome'] == 'win']:\n",
    "        # if the cell is a string\n",
    "        if type(x) == str:\n",
    "            # and if the commander is in the cell\n",
    "            if row in x:\n",
    "                # add one to score\n",
    "                score = score + 1\n",
    "            # if not\n",
    "            else:\n",
    "                # add 0 to score\n",
    "                score = score + 0\n",
    "        # if the cell is not a string        \n",
    "        else:\n",
    "            # do nothing\n",
    "            continue\n",
    "    # append the score to the list\n",
    "    attack_win.append(score)"
   ]
  },
  {
   "cell_type": "code",
   "execution_count": null,
   "metadata": {
    "collapsed": true
   },
   "outputs": [],
   "source": [
    "######## Count the number of times a commander unsuccessfully attacked\n",
    "\n",
    "# Create a list\n",
    "attack_loss = []\n",
    "\n",
    "# for each commander:\n",
    "for row in commanders:\n",
    "    # create a score variable\n",
    "    score = 0\n",
    "    # go through each cell of attacker commander where the attacker loses:\n",
    "    for x in battles['attacker_commander'][battles['attacker_outcome'] == 'loss']:\n",
    "        # if the cell is a string\n",
    "        if type(x) == str:\n",
    "            # and if the commander is in the cell\n",
    "            if row in x:\n",
    "                # add one to score\n",
    "                score = score + 1\n",
    "            # if not\n",
    "            else:\n",
    "                # add 0 to score\n",
    "                score = score + 0\n",
    "        # if the cell is not a string        \n",
    "        else:\n",
    "            # do nothing\n",
    "            continue\n",
    "    # append the score to the list\n",
    "    attack_loss.append(score)"
   ]
  },
  {
   "cell_type": "code",
   "execution_count": null,
   "metadata": {
    "collapsed": true
   },
   "outputs": [],
   "source": [
    "######## Count the number of times a commander successfully defended\n",
    "\n",
    "# Create a list\n",
    "defend_win = []\n",
    "\n",
    "# for each commander:\n",
    "for row in commanders:\n",
    "    # create a score variable\n",
    "    score = 0\n",
    "    # go through each cell of defender commander where the attacker losses:\n",
    "    for x in battles['defender_commander'][battles['attacker_outcome'] == 'loss']:\n",
    "        # if the cell is a string\n",
    "        if type(x) == str:\n",
    "            # and if the commander is in the cell\n",
    "            if row in x:\n",
    "                # add one to score\n",
    "                score = score + 1\n",
    "            # if not\n",
    "            else:\n",
    "                # add 0 to score\n",
    "                score = score + 0\n",
    "        # if the cell is not a string        \n",
    "        else:\n",
    "            # do nothing\n",
    "            continue   \n",
    "    # append the score to the list\n",
    "    defend_win.append(score)"
   ]
  },
  {
   "cell_type": "code",
   "execution_count": null,
   "metadata": {
    "collapsed": true
   },
   "outputs": [],
   "source": [
    "######## Count the number of times a commander unsuccessfully defended\n",
    "\n",
    "# Create a list\n",
    "defend_loss = []\n",
    "\n",
    "# for each commander:\n",
    "for row in commanders:\n",
    "    # create a score variable\n",
    "    score = 0\n",
    "    # go through each cell of defender commander where the attacker wins:\n",
    "    for x in battles['defender_commander'][battles['attacker_outcome'] == 'win']:\n",
    "        # if the cell is a string\n",
    "        if type(x) == str:\n",
    "            # and if the commander is in the cell\n",
    "            if row in x:\n",
    "                # add one to score\n",
    "                score = score + 1\n",
    "            # if not\n",
    "            else:\n",
    "                # add 0 to score\n",
    "                score = score + 0\n",
    "        # if the cell is not a string        \n",
    "        else:\n",
    "            # do nothing\n",
    "            continue\n",
    "    # append the score to the list\n",
    "    defend_loss.append(score)"
   ]
  },
  {
   "cell_type": "code",
   "execution_count": null,
   "metadata": {
    "collapsed": false
   },
   "outputs": [],
   "source": [
    "# Create a dictionary of the four score lists\n",
    "columns = {'attack_win':  attack_win, \n",
    "           'attack_loss': attack_loss,\n",
    "           'defend_win': defend_win,\n",
    "           'defend_loss': attack_loss}\n",
    "\n",
    "# Create a dataframe from that dictionary, indexed by a commander's name\n",
    "battle_record = pd.DataFrame(columns, index = commanders)"
   ]
  },
  {
   "cell_type": "code",
   "execution_count": null,
   "metadata": {
    "collapsed": true
   },
   "outputs": [],
   "source": [
    "######################################################################\n",
    "########                      Analysis                        ########\n",
    "######################################################################\n",
    "\n",
    "# Count the total attacks for for each commander\n",
    "battle_record['total_attacks'] = battle_record['attack_win'] + battle_record['attack_loss']\n",
    "\n",
    "# Count the total defends for for each commander\n",
    "battle_record['total_defends'] = battle_record['defend_win'] + battle_record['defend_loss']\n",
    "\n",
    "# Count the total wins for for each commander\n",
    "battle_record['total_wins'] = battle_record['attack_win'] + battle_record['defend_win']\n",
    "\n",
    "# Count the total losses for for each commander\n",
    "battle_record['total_loss'] = battle_record['attack_loss'] + battle_record['defend_loss']\n",
    "\n",
    "# Create a total number of battles for each commander\n",
    "battle_record['total_battles'] = battle_record['attack_win'] + battle_record['attack_loss'] + battle_record['defend_win'] + battle_record['defend_loss']\n",
    "\n",
    "# Create a win percentage score (total wins / total battles) for each commander\n",
    "battle_record['win_percentage'] = battle_record['total_wins'] / battle_record['total_battles'] * 100\n",
    "\n",
    "# Create a composite score (total number of wins minus total number of losses) for each commander\n",
    "battle_record['composite_record'] = (battle_record['attack_win'] + battle_record['defend_win']) - (battle_record['attack_loss'] + battle_record['defend_loss'])"
   ]
  },
  {
   "cell_type": "code",
   "execution_count": null,
   "metadata": {
    "collapsed": false
   },
   "outputs": [],
   "source": [
    "battles[\"attack_loss\"] = pd.to_numeric(battle_record.attack_loss, errors='coerce')\n",
    "battles[\"attack_win\"] = pd.to_numeric(battle_record.attack_win, errors='coerce')\n",
    "battles[\"defend_loss\"] = pd.to_numeric(battle_record.defend_loss, errors='coerce')\n",
    "battles[\"defend_win\"] = pd.to_numeric(battle_record.defend_win, errors='coerce')\n",
    "battles[\"total_attacks\"] = pd.to_numeric(battle_record.total_attacks, errors='coerce')\n",
    "battles[\"total_defends\"] = pd.to_numeric(battle_record.total_defends, errors='coerce')\n",
    "battles[\"total_wins\"] = pd.to_numeric(battle_record.total_wins, errors='coerce')\n",
    "battles[\"total_loss\"] = pd.to_numeric(battle_record.total_loss, errors='coerce')\n",
    "battles[\"total_battles\"] = pd.to_numeric(battle_record.total_battles, errors='coerce')\n",
    "battles[\"win_percentage\"] = pd.to_numeric(battle_record.win_percentage, errors='coerce')\n",
    "battles[\"composite_record\"] = pd.to_numeric(battle_record.composite_record, errors='coerce')"
   ]
  },
  {
   "cell_type": "code",
   "execution_count": null,
   "metadata": {
    "collapsed": false
   },
   "outputs": [],
   "source": [
    "battles"
   ]
  },
  {
   "cell_type": "code",
   "execution_count": null,
   "metadata": {
    "collapsed": false
   },
   "outputs": [],
   "source": [
    "### Top 10 Most Active Commanders\n",
    "battle_record.sort_values(by = 'total_battles', ascending = False).head(10)['total_battles']"
   ]
  },
  {
   "cell_type": "code",
   "execution_count": null,
   "metadata": {
    "collapsed": false
   },
   "outputs": [],
   "source": [
    "### Top 10 Most Active Attackers\n",
    "battle_record.sort_values(by = 'total_attacks', ascending = False).head(10)['total_attacks']"
   ]
  },
  {
   "cell_type": "code",
   "execution_count": null,
   "metadata": {
    "collapsed": false
   },
   "outputs": [],
   "source": [
    "### Top 10 Most Active Defenders\n",
    "battle_record.sort_values(by = 'total_defends', ascending = False).head(10)['total_defends']"
   ]
  },
  {
   "cell_type": "code",
   "execution_count": null,
   "metadata": {
    "collapsed": false
   },
   "outputs": [],
   "source": [
    "### Top 10 Most Victorious Commanders\n",
    "battle_record.sort_values(by = 'total_wins', ascending = False).head(10)['total_wins']"
   ]
  },
  {
   "cell_type": "code",
   "execution_count": null,
   "metadata": {
    "collapsed": false
   },
   "outputs": [],
   "source": [
    "### Top 30 Most Losing Commanders\n",
    "battle_record.sort_values(by = 'total_loss', ascending = False).head(30)['total_loss']"
   ]
  },
  {
   "cell_type": "code",
   "execution_count": null,
   "metadata": {
    "collapsed": false
   },
   "outputs": [],
   "source": [
    "### Commanders With The Best Win Percentage\n",
    "battle_record.sort_values(by = 'win_percentage', ascending = False).head(75)['win_percentage'][battle_record['win_percentage'] != float('Inf')]"
   ]
  },
  {
   "cell_type": "code",
   "execution_count": null,
   "metadata": {
    "collapsed": false
   },
   "outputs": [],
   "source": [
    "### Top 10 Greatest Commanders\n",
    "battle_record.sort_values(by = 'composite_record', ascending = False).head(10)['composite_record']"
   ]
  },
  {
   "cell_type": "code",
   "execution_count": null,
   "metadata": {
    "collapsed": true
   },
   "outputs": [],
   "source": [
    "######################################################################\n",
    "########                    Tie Breaker                       ########\n",
    "######################################################################\n",
    "\n",
    "# Create a list with the defender/attacker \n",
    "# ratios for each battle Jaime Lannister fought\n",
    "jaime_ratio = []\n",
    "\n",
    "# Create a list with the defender/attacker \n",
    "# ratios for each battle Robb Stark fought\n",
    "robb_ratio = []\n",
    "\n",
    "# Create a list with the defender/attacker \n",
    "# ratios for each battle Gregor Clegane fought\n",
    "gregor_ratio = []\n",
    "\n",
    "# Create a count variable\n",
    "i = 0\n",
    "\n",
    "# For each row in df.attacker_commander where the attacker wins,\n",
    "for row in battles['attacker_commander'][battles['attacker_outcome'] == 'win']:\n",
    "        # if the row is a string (this means we skip np.nan's, which are floats)\n",
    "        if type(row) == str:\n",
    "            # if the row contains this name\n",
    "            if \"Jaime Lannister\" in row:\n",
    "                # divide the size of the defender's army with the size of the attacker's army\n",
    "                relative_size = battles['defender_size'][i] / battles['attacker_size'][i]\n",
    "                jaime_ratio.append(relative_size)\n",
    "            # if the row contains this name\n",
    "            elif \"Robb Stark\" in row:\n",
    "                # divide the size of the defender's army with the size of the attacker's army\n",
    "                relative_size = battles['defender_size'][i] / battles['attacker_size'][i]\n",
    "                robb_ratio.append(relative_size)\n",
    "            # if the row contains this name\n",
    "            elif \"Gregor Clegane\" in row:\n",
    "                # divide the size of the defender's army with the size of the attacker's army\n",
    "                relative_size = battles['defender_size'][i] / battles['attacker_size'][i]\n",
    "                gregor_ratio.append(relative_size)\n",
    "            # otherwise\n",
    "            else:\n",
    "                # do nothing\n",
    "                continue\n",
    "        \n",
    "        # and add 1 to the counter variable\n",
    "        i = i + 1"
   ]
  },
  {
   "cell_type": "code",
   "execution_count": null,
   "metadata": {
    "collapsed": false
   },
   "outputs": [],
   "source": [
    "### Create an empty dataframe\n",
    "top3_ratio = pd.DataFrame()\n",
    "\n",
    "### Create three columns for the dataframe for each commander's ratios\n",
    "top3_ratio['jaime'] = jaime_ratio\n",
    "top3_ratio['robb'] = robb_ratio\n",
    "top3_ratio['gregor'] = gregor_ratio\n",
    "\n",
    "# Display the ratios of each commander's four battles\n",
    "top3_ratio"
   ]
  },
  {
   "cell_type": "code",
   "execution_count": null,
   "metadata": {
    "collapsed": false
   },
   "outputs": [],
   "source": [
    "######################################################################\n",
    "########                       Results                        ########\n",
    "######################################################################\n",
    "# Print a plain English sentence that includes the mean ratio (rounded to two decimals)\n",
    "print('On average, Jaime Lannister successfully attacked when the enemy has', top3_ratio['jaime'].mean().round(2), 'soldiers for every one of his own.')\n",
    "print()\n",
    "# Print a plain English sentence that includes the mean ratio (rounded to two decimals)\n",
    "print('On average, Robb Stark successfully attacked when the enemy has', top3_ratio['robb'].mean().round(2), 'soldiers for every one of his own.')\n",
    "print()\n",
    "# Print a plain English sentence that includes the mean ratio (rounded to two decimals)\n",
    "print('On average, Gregor Clegane successfully attacked when the enemy has', top3_ratio['gregor'].mean().round(2), 'soldiers for every one of his own.')"
   ]
  }
 ],
 "metadata": {
  "anaconda-cloud": {},
  "kernelspec": {
   "display_name": "Python [conda env:py36]",
   "language": "python",
   "name": "conda-env-py36-py"
  },
  "language_info": {
   "codemirror_mode": {
    "name": "ipython",
    "version": 3
   },
   "file_extension": ".py",
   "mimetype": "text/x-python",
   "name": "python",
   "nbconvert_exporter": "python",
   "pygments_lexer": "ipython3",
   "version": "3.6.2"
  }
 },
 "nbformat": 4,
 "nbformat_minor": 1
}
