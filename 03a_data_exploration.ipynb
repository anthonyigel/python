{
 "cells": [
  {
   "cell_type": "code",
   "execution_count": null,
   "metadata": {
    "collapsed": true
   },
   "outputs": [],
   "source": [
    "##################################################\n",
    "### Author: Anthony Igel                       ###\n",
    "### Team: Category Management Transformation   ###\n",
    "### Project: Developing practical Python Tools ###\n",
    "### Purpose: Data Exploration                  ###\n",
    "### Date: 05/23/2018                           ###\n",
    "##################################################\n",
    "\n",
    "### Data exploration in Python\n",
    "#################################################################################################################################\n",
    "\n",
    "######################################################################\n",
    "########                     Import Modules                   ########\n",
    "######################################################################\n",
    "import py_effo as py_effo\n",
    "from py_effo.oracle_connection import OracleConnection\n",
    "\n",
    "### pandas\n",
    "# Pandas is for structured data operations and manipulations, extensively used for data preparation\n",
    "import pandas as pd\n",
    "\n",
    "### use_bottleneck & use_numexpr both accelerate computation in panda functions\n",
    "pd.set_option('compute.use_bottleneck', False)\n",
    "pd.set_option('compute.use_numexpr', False)\n",
    "\n",
    "### numpy\n",
    "# NumPy stands for Numerical Python, a library contains basic linear algebra functions, Fourier Transforms and advanced random\n",
    "# number capabilities\n",
    "import numpy as np \n",
    "\n",
    "### Scipy\n",
    "# Scipy performs a host of statistical calculations, built on top of Numpy, thus we do not need to import Numpy as all Numpy\n",
    "# functions are contained in Scipy\n",
    "# https://oneau.wordpress.com/2011/02/28/simple-statistics-with-scipy/\n",
    "import scipy as sp\n",
    "\n",
    "### Statsmodels\n",
    "import statsmodels.formula.api as sm\n",
    "\n",
    "### Matplotlib\n",
    "# Matplotlib is a Python based plotting library with complete 2D support and limited 3D support\n",
    "%matplotlib inline\n",
    "import matplotlib as mlb\n",
    "import matplotlib.pyplot as plt\n",
    "\n",
    "### Seaborn\n",
    "# Seaborn is a Python visualization library based on Matplolib, providing high-level interface for statistcial graphing\n",
    "# Seaborn supports numpy and pandas data structures as well as statistical routines from scipy and statsmodels\n",
    "# Note: https://seaborn.pydata.org/introduction.html\n",
    "import seaborn as sns\n",
    "\n",
    "### String\n",
    "# Allows for more flexible solutions for dealing with string characters\n",
    "import string as st"
   ]
  },
  {
   "cell_type": "code",
   "execution_count": null,
   "metadata": {
    "collapsed": false
   },
   "outputs": [],
   "source": [
    "######################################################################\n",
    "########                     Import Data                      ########\n",
    "######################################################################\n",
    "\n",
    "### Commodity by Division, Fiscal Year statistics\n",
    "ora_con = OracleConnection(user = 'an_rt_ws106')\n",
    "comm_fy_div_metrics = ora_con.import_table('CM_TIERS_COMM_FY_DIV_METRICS')\n",
    "\n",
    "### Mega-Category to Commodity Mapping file\n",
    "mega_category_mappings = pd.read_csv(\"/nfs/analysis/analysis/kroger/category_management_transformation/mini_hack_days/python/category_survey_product_mapping.csv\")"
   ]
  },
  {
   "cell_type": "code",
   "execution_count": null,
   "metadata": {
    "collapsed": false
   },
   "outputs": [],
   "source": [
    "######################################################################\n",
    "########                  Data Expoloration                   ########\n",
    "######################################################################\n",
    "# http://python-reference.readthedocs.io/en/latest/index.html\n",
    "# https://github.com/lis365b/data_analysis/blob/master/data_prep_python_cheatsheet.md\n",
    "# https://www.analyticsvidhya.com/wp-content/uploads/2015/06/infographics-final.jpg\n",
    "# http://www.statsmodels.org/stable/index.html\n",
    "\n",
    "######## head() ########\n",
    "### Similar to r, you can use the head() function to view the top values for the data set specifed\n",
    "### You can specifiy how many records you want to view by using an integer value as the argument\n",
    "### Additonally, you can use the function tail() to view the end of the data frame\n",
    "\n",
    "# Example 1 - head() and tail() functions\n",
    "print('Example 1')\n",
    "print(\"comm_fy_div_metrics\")\n",
    "print(comm_fy_div_metrics.head(5))\n",
    "print()\n",
    "print(\"mega_category_mappings\")\n",
    "print(mega_category_mappings.tail(5))\n",
    "print()\n",
    "\n",
    "# Example 2 - Using row identifiers\n",
    "print('Example 2')\n",
    "print(comm_fy_div_metrics[:2])"
   ]
  },
  {
   "cell_type": "code",
   "execution_count": null,
   "metadata": {
    "collapsed": false
   },
   "outputs": [],
   "source": [
    "######## len() ########\n",
    "### The length function in Python acts just as it does in r, counting each row\n",
    "\n",
    "# Example\n",
    "print(\"comm_fy_div_metrics length\")\n",
    "print(len(comm_fy_div_metrics))\n",
    "print()\n",
    "print(\"mega_category_mappings length\")\n",
    "print(len(mega_category_mappings))"
   ]
  },
  {
   "cell_type": "code",
   "execution_count": null,
   "metadata": {
    "collapsed": false
   },
   "outputs": [],
   "source": [
    "######## info() ########\n",
    "### The info function allows the user to view information on the data frame's data types\n",
    "\n",
    "# Example\n",
    "comm_fy_div_metrics.info()\n",
    "print()\n",
    "mega_category_mappings.info()"
   ]
  },
  {
   "cell_type": "code",
   "execution_count": null,
   "metadata": {
    "collapsed": false
   },
   "outputs": [],
   "source": [
    "######## Data Frame Information ########\n",
    "### You can use the keys(), values(), and items() functions to return informtation about columns and rows\n",
    "### items() and values() are used for lists, not data frames\n",
    "\n",
    "# Example 1 - Return column names\n",
    "for k in comm_fy_div_metrics.keys():\n",
    "    print(k)\n",
    "\n",
    "print()\n",
    "### You can also utilize functions from the pandas module to extract metadata information\n",
    "print('Extract data within the data structure')\n",
    "print(comm_fy_div_metrics.values)"
   ]
  },
  {
   "cell_type": "code",
   "execution_count": null,
   "metadata": {
    "collapsed": false,
    "scrolled": true
   },
   "outputs": [],
   "source": [
    "######## isnull ########\n",
    "### The isnull function is a boolean evaluator to determine if the record is null or contains a value (str, int, etc.)\n",
    "\n",
    "# Example 1 - All records with boolean evalulation of isnull()\n",
    "print(comm_fy_div_metrics.isnull().head(5))\n",
    "\n",
    "# Example 2 - Summary count of each variable with sum of values with isnull() = True\n",
    "print(comm_fy_div_metrics.isnull().sum())\n",
    "\n",
    "print()\n",
    "print(mega_category_mappings.isnull().sum())"
   ]
  },
  {
   "cell_type": "code",
   "execution_count": null,
   "metadata": {
    "collapsed": false
   },
   "outputs": [],
   "source": [
    "######## Replacing Missing Values with Zeroes ########\n",
    "### You can create a simple for() loop to replace missing numeric values with zeroes\n",
    "\n",
    "# Example \n",
    "for i in range(0): # Only calling the numeric variable\n",
    "    mega_category_mappings.iloc[:, [i]].fillna(value = 0, inplace = True)\n",
    "\n",
    "### Then verify that it worked properly\n",
    "print(mega_category_mappings.isnull().sum())"
   ]
  },
  {
   "cell_type": "code",
   "execution_count": null,
   "metadata": {
    "collapsed": false
   },
   "outputs": [],
   "source": [
    "######## Modifying Data Types ########\n",
    "### You can create a simple for() loop to modify data types\n",
    "\n",
    "# Example 1\n",
    "for i in range(1, 5): # Only calling the object variables\n",
    "    mega_category_mappings.iloc[:, [i]].apply(np.str)\n",
    "    \n",
    "# Example 2\n",
    "mega_category_mappings[\"prod_merch_l20_code\"] = mega_category_mappings['prod_merch_l20_code'].astype('str')\n",
    "\n",
    "# Example 3\n",
    "comm_fy_div_metrics[\"UNITS\"] = comm_fy_div_metrics['UNITS'].astype('float')\n",
    "comm_fy_div_metrics[\"VISITS\"] = comm_fy_div_metrics['VISITS'].astype('float')\n",
    "comm_fy_div_metrics[\"NUM_PRICEZONE\"] = comm_fy_div_metrics['NUM_PRICEZONE'].astype('float')"
   ]
  },
  {
   "cell_type": "code",
   "execution_count": null,
   "metadata": {
    "collapsed": false
   },
   "outputs": [],
   "source": [
    "print(mega_category_mappings.dtypes)\n",
    "print()\n",
    "print(comm_fy_div_metrics.dtypes)"
   ]
  },
  {
   "cell_type": "code",
   "execution_count": null,
   "metadata": {
    "collapsed": false
   },
   "outputs": [],
   "source": [
    "######## Duplicate Detection ########\n",
    "### To find duplicate values you can do it by two methods\n",
    "\n",
    "# Example 1 - Count unique values of one column\n",
    "print('Example 1')\n",
    "print(mega_category_mappings.groupby('mega_category_map').nunique().head(5))\n",
    "print()\n",
    "\n",
    "# Example 2 - Count unique values of one column and return summary information\n",
    "print('Example 2')\n",
    "print(mega_category_mappings.groupby('mega_category_map').nunique().sum())\n",
    "print()\n",
    "\n",
    "# Example 3 - Added layer of dimensionality to display unique values\n",
    "print('Example 3')\n",
    "print(mega_category_mappings.groupby('mega_category_map').prod_merch_l20_code.nunique().sum())\n",
    "print()\n",
    "\n",
    "# Example 4 - Show duplicate values for one column\n",
    "print('Example 4')\n",
    "print((i for _, in mega_category_mappings.groupby('mega_category_map') if len(i) > 1))\n"
   ]
  },
  {
   "cell_type": "code",
   "execution_count": null,
   "metadata": {
    "collapsed": false
   },
   "outputs": [],
   "source": [
    "######################################################################\n",
    "########                  Data Manipulation                   ########\n",
    "######################################################################\n",
    "\n",
    "### In mega_category_mappings it appears that our Commodity Code is numerical, as opposed to a zero-padded string\n",
    "### We might have whitespace in the column names so we should change that\n",
    "### Let's fix those\n",
    "\n",
    "# http://pbpython.com/pandas_dtypes.html\n",
    "# https://docs.python.org/3.6/library/stdtypes.html#\n",
    "# https://www.programiz.com/python-programming/methods/string/format\n",
    "# https://docs.python.org/3/library/string.html#string-formatting\n",
    "\n",
    "### This will ensure that all column names are stripped of whitespace\n",
    "mega_category_mappings.rename(columns = lambda x: x.strip(), inplace = True)\n",
    "\n",
    "### We can use the function pad), with our width of left-pad is our argument\n",
    "# Example \n",
    "mega_category_mappings[\"prod_merch_l20_code\"] = mega_category_mappings['prod_merch_l20_code'].str.pad(3, side = 'left', fillchar = '0')    \n",
    "\n",
    "\n",
    "### We can also adjust the case of our metrics table columns\n",
    "comm_fy_div_metrics.rename(columns = lambda x: x.lower(), inplace = True)\n"
   ]
  },
  {
   "cell_type": "code",
   "execution_count": null,
   "metadata": {
    "collapsed": false
   },
   "outputs": [],
   "source": [
    "print(mega_category_mappings.head(5))\n",
    "print()\n",
    "print(comm_fy_div_metrics.head(5))"
   ]
  },
  {
   "cell_type": "code",
   "execution_count": null,
   "metadata": {
    "collapsed": false
   },
   "outputs": [],
   "source": [
    "######## Data Descriptions ########\n",
    "### It is easy to call quick statistics of data frames using the describe() function\n",
    "print('Commodity by Division FY')\n",
    "print(comm_fy_div_metrics.describe())\n",
    "print()\n",
    "print('Commodity by Division FY w/ Percentiles')\n",
    "print(comm_fy_div_metrics.describe(percentiles=[.05, .25, .75, .95]))\n",
    "\n",
    "\n",
    "### If your data frame contains numerical and categorical values, Python will natively only display numerical values\n",
    "### Use the include = [''] argument to alter this decision (include = ['all'], include = ['object'], include = ['number'])"
   ]
  },
  {
   "cell_type": "code",
   "execution_count": null,
   "metadata": {
    "collapsed": false
   },
   "outputs": [],
   "source": [
    "######################################################################\n",
    "########                Joining data frames                   ########\n",
    "######################################################################\n",
    "\n",
    "### From the module pandas, we can utilize their merge() function to join our metrics and mapping data frames\n",
    "full_data = pd.merge(comm_fy_div_metrics, mega_category_mappings, how = 'left', on = 'prod_merch_l20_code')\n",
    "\n",
    "del full_data['prod_merch_l20_desc'] # You can specify particular columns to delete from data frames using \"del\"\n",
    "del full_data['mega_category_map_nf']\n",
    "### Let's check to see if it was done correctly\n",
    "print('Length of Metrics Data')\n",
    "print(len(comm_fy_div_metrics))\n",
    "print()\n",
    "print('Length of Mapping Data')\n",
    "print(len(mega_category_mappings))\n",
    "print()\n",
    "print('Length of Full Data')\n",
    "print(len(full_data))"
   ]
  },
  {
   "cell_type": "code",
   "execution_count": null,
   "metadata": {
    "collapsed": false
   },
   "outputs": [],
   "source": [
    "### Since not every prod_merch_l20_code has a mapping for their Category Role or Mega-Category, there are many 'Nan' values\n",
    "print('Summary of Columns with Null Values')\n",
    "print(full_data.isnull().sum())\n",
    "print()\n",
    "full_data['mega_category_map'] = full_data.mega_category_map.apply(lambda x: x if not pd.isnull(x) else 'NA')\n",
    "full_data['role_name'] = full_data.role_name.apply(lambda x: x if not pd.isnull(x) else 'NA')\n",
    "print('After Cleaning Summary')\n",
    "print(full_data.isnull().sum())"
   ]
  },
  {
   "cell_type": "code",
   "execution_count": null,
   "metadata": {
    "collapsed": false
   },
   "outputs": [],
   "source": [
    "######################################################################\n",
    "########                   Viewing the Data                   ########\n",
    "######################################################################\n",
    "\n",
    "######## sort_values() ########\n",
    "\n",
    "# Example 1\n",
    "### Sort by Spend\n",
    "print(\"Sort by Spend\")\n",
    "print(full_data.sort_values(by = 'spend', ascending = False).head(3))\n",
    "\n",
    "print()\n",
    "### Sort by Number of Price Zones\n",
    "print(\"Sort by Number of Price Zones\")\n",
    "print(full_data.sort_values(by = \"num_pricezone\", ascending = False).head(3))"
   ]
  },
  {
   "cell_type": "code",
   "execution_count": null,
   "metadata": {
    "collapsed": false
   },
   "outputs": [],
   "source": [
    "######################################################################\n",
    "########                Graphing Distributions                ########\n",
    "######################################################################\n",
    "\n",
    "### Import py_effo's branding \n",
    "import py_effo.branding as branding\n",
    "\n",
    "# View the colors as hex_values\n",
    "colors = branding.Colors()\n",
    "colors\n",
    "\n",
    "#for key in colors.colors:\n",
    "#    value = colors.colors[key]\n",
    "#    print(key + ' -> ' + str(value))"
   ]
  },
  {
   "cell_type": "code",
   "execution_count": null,
   "metadata": {
    "collapsed": false
   },
   "outputs": [],
   "source": [
    "### We can view what our current palette is\n",
    "current_palette = sns.color_palette()\n",
    "sns.palplot(current_palette)\n",
    "\n",
    "#sns.color_palette((244, 51, 171), (0, 189, 179), (255, 215, 69), (2, 104, 209), (169, 19, 187))"
   ]
  },
  {
   "cell_type": "code",
   "execution_count": null,
   "metadata": {
    "collapsed": false
   },
   "outputs": [],
   "source": [
    "######################################################################\n",
    "########                 Plotting Basics                      ########\n",
    "######################################################################\n",
    "\n",
    "### Plots in Matplotlib reside within a figure object, use plt.figure to create a new figure\n",
    "fig = plt.figure()\n",
    "\n",
    "### Create on, or more subplots using add_subplot, since you cannot create a blank figure\n",
    "ax = fig.add_subplot(1, 1, 1)\n",
    "\n",
    "### Call your subplot created above, with a specified graph type (hist(), scatter(), etc.) and then idenitfy the variable to use\n",
    "ax.hist(full_data['spend'], bins = 5)\n",
    "\n",
    "### Add labels and a title\n",
    "plt.title('Spend Distribution')\n",
    "plt.xlabel('Spend ($)')\n",
    "plt.ylabel('#Commodity - Division Combinations')\n",
    "plt.show()"
   ]
  },
  {
   "cell_type": "code",
   "execution_count": null,
   "metadata": {
    "collapsed": false
   },
   "outputs": [],
   "source": [
    "######## Plotting with Seaborn ########\n",
    "### Seaborn plots do not require an explict statement to build the figure\n",
    "### Read more about Seaborn plots in the link below\n",
    "# https://www.kaggle.com/pmarcelino/comprehensive-data-exploration-with-python\n",
    "sns.distplot(full_data['spend'])"
   ]
  },
  {
   "cell_type": "code",
   "execution_count": null,
   "metadata": {
    "collapsed": false
   },
   "outputs": [],
   "source": [
    "######## Scatter Plots ########\n",
    "\n",
    "### Plots in Matplotlib reside within a figure object, use plt.figure to create a new figure\n",
    "fig = plt.figure()\n",
    "\n",
    "### Create on, or more subplots using add_subplot, since you cannot create a blank figure\n",
    "ax = fig.add_subplot(1, 1, 1)\n",
    "\n",
    "### Identify variables to use\n",
    "### The first variable is the x-axis and the second is the y-axis\n",
    "ax.scatter(full_data['spend'], full_data['visits'])\n",
    "\n",
    "### Add labels and Title\n",
    "plt.title('Spend vs Visits Distribution')\n",
    "plt.xlabel('Spend ($)')\n",
    "plt.ylabel('Visits (#)')\n",
    "plt.show()\n"
   ]
  }
 ],
 "metadata": {
  "anaconda-cloud": {},
  "kernelspec": {
   "display_name": "Python [conda env:py36]",
   "language": "python",
   "name": "conda-env-py36-py"
  },
  "language_info": {
   "codemirror_mode": {
    "name": "ipython",
    "version": 3
   },
   "file_extension": ".py",
   "mimetype": "text/x-python",
   "name": "python",
   "nbconvert_exporter": "python",
   "pygments_lexer": "ipython3",
   "version": "3.6.2"
  }
 },
 "nbformat": 4,
 "nbformat_minor": 1
}
