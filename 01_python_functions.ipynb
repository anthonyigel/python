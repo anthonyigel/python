{
 "cells": [
  {
   "cell_type": "code",
   "execution_count": null,
   "metadata": {
    "collapsed": true
   },
   "outputs": [],
   "source": [
    "##################################################\n",
    "### Author: Anthony Igel                       ###\n",
    "### Team: Category Management Transformation   ###\n",
    "### Project: Developing practical Python Tools ###\n",
    "### Purpose: Function demonstration            ###\n",
    "### Date: 05/22/2018                           ###\n",
    "##################################################\n",
    "\n",
    "### Writing basic functions to build off of 00_practical_python_examples\n",
    "#################################################################################################################################\n",
    "\n",
    "######################################################################\n",
    "########                     Import Modules                   ########\n",
    "######################################################################\n",
    "\n",
    "import random"
   ]
  },
  {
   "cell_type": "code",
   "execution_count": null,
   "metadata": {
    "collapsed": false
   },
   "outputs": [],
   "source": [
    "######################################################################\n",
    "########                     Functions                        ########\n",
    "######################################################################\n",
    "\n",
    "### To better understand how to utilize a function, create one\n",
    "\n",
    "# Example\n",
    "def hello(): # this defines the function named hello()\n",
    "    print('Howdy!')\n",
    "    print('Howdy!!!!')\n",
    "    print('Hello there.')\n",
    "\n",
    "# Then call the defined function hello()\n",
    "hello()\n",
    "\n",
    "print()\n",
    "######## def Statements with Parameters ########\n",
    "### When you call the print() or len() functions, you pass in values, called arguments\n",
    "### You can do the same with user-defined functions\n",
    "\n",
    "# Example\n",
    "def hello(name):\n",
    "    print('Hi ' + name)\n",
    "\n",
    "# Call the hello() function with an argument value for 'name'\n",
    "hello('Anthony')\n",
    "\n",
    "### It is important to note that the parameter, name in this case, does not store the value after the function returns"
   ]
  },
  {
   "cell_type": "code",
   "execution_count": null,
   "metadata": {
    "collapsed": false
   },
   "outputs": [],
   "source": [
    "######## Return Values and return Statements ######## \n",
    "### When you call the len() function and pass it an arugment, the integer value that is presented is called the return value\n",
    "\n",
    "# Example\n",
    "\n",
    "def getAnswer(answerNumber):\n",
    "    if answerNumber == 1:\n",
    "        return 'It is certain.'\n",
    "    elif answerNumber == 2:\n",
    "        return 'It is decidedly so.'\n",
    "    elif answerNumber == 3:\n",
    "        return 'Yes.'\n",
    "    elif answerNumber == 4:\n",
    "        return 'Reply hazy, try again.'\n",
    "    elif answerNumber == 5:\n",
    "        return 'Ask again later.'\n",
    "    elif answerNumber == 6:\n",
    "        return 'Concentrate and ask again'\n",
    "    elif answerNumber == 7:\n",
    "        return 'My reply is no.'\n",
    "    elif answerNumber == 8:\n",
    "        return 'Very doubtful'\n",
    "r = random.randint(1, 9)\n",
    "fortune = getAnswer(r)\n",
    "print(fortune)    "
   ]
  },
  {
   "cell_type": "code",
   "execution_count": null,
   "metadata": {
    "collapsed": false
   },
   "outputs": [],
   "source": [
    "### Since you can pass return values as an argument to another function, you could shorten the last three lines to the following\n",
    "\n",
    "# Example\n",
    "\n",
    "def getAnswer(answerNumber):\n",
    "    if answerNumber == 1:\n",
    "        return 'It is certain.'\n",
    "    elif answerNumber == 2:\n",
    "        return 'It is decidedly so.'\n",
    "    elif answerNumber == 3:\n",
    "        return 'Yes.'\n",
    "    elif answerNumber == 4:\n",
    "        return 'Reply hazy, try again.'\n",
    "    elif answerNumber == 5:\n",
    "        return 'Ask again later.'\n",
    "    elif answerNumber == 6:\n",
    "        return 'Concentrate and ask again'\n",
    "    elif answerNumber == 7:\n",
    "        return 'My reply is no.'\n",
    "    elif answerNumber == 8:\n",
    "        return 'Very doubtful'\n",
    "\n",
    "print(getAnswer(random.randint(1, 9)))\n",
    "\n",
    "### In Python there is a value called 'none' which is represents the absence of a value\n",
    "### In other programming this is noted by 'null' or 'undefined' or 'nil'\n",
    "### Behind the scenes, Python adds \"return None\" to any function defined with no return statement"
   ]
  },
  {
   "cell_type": "code",
   "execution_count": null,
   "metadata": {
    "collapsed": false
   },
   "outputs": [],
   "source": [
    "### The print() function can use the sep() argument, Python natively separates each word by a single space\n",
    "\n",
    "# Example\n",
    "print('New', 'tech', 'stack')\n",
    "print('vs')\n",
    "print('New', 'tech', 'stack', sep = ',')"
   ]
  },
  {
   "cell_type": "code",
   "execution_count": null,
   "metadata": {
    "collapsed": false
   },
   "outputs": [],
   "source": [
    "######################################################################\n",
    "########                 Exception Handling                   ########\n",
    "######################################################################\n",
    "\n",
    "### Getting an error, or exception, in Python means the entire program will crash, which would be less than ideal irl\n",
    "### Instead, you want the program to detect errors, handle them, and continue on\n",
    "\n",
    "### Example -- THIS WILL PRODUCE AND ERROR\n",
    "def spam(divideBy):\n",
    "    return 42 / divideBy\n",
    "\n",
    "print(spam(2))\n",
    "print(spam(12))\n",
    "print(spam(0))\n",
    "print(spam(1))\n"
   ]
  },
  {
   "cell_type": "code",
   "execution_count": null,
   "metadata": {
    "collapsed": false
   },
   "outputs": [],
   "source": [
    "### Obviously we cannnot divide by zero, so we need create a \"try\" and \"except\" clause in our function\n",
    "\n",
    "# Example\n",
    "def spam(divideBy):\n",
    "    try:\n",
    "        return 42 / divideBy\n",
    "    except ZeroDivisionError:\n",
    "        print('Error: Invalid argument.')\n",
    "print(spam(2))\n",
    "print(spam(12))\n",
    "print(spam(0))\n",
    "print(spam(1))\n",
    "\n",
    "print()\n",
    "\n",
    "### Any errors that occur in the function calls in the try block will also be caught\n",
    "### The following utilizes the spam() calls in the try block\n",
    "\n",
    "def spam(divideBy):\n",
    "    return 42 / divideBy\n",
    "try:\n",
    "    print(spam(2))\n",
    "    print(spam(12))\n",
    "    print(spam(0))\n",
    "    print(spam(1))\n",
    "except ZeroDivisionError:\n",
    "        print('Error: Invalid argument.')\n",
    "        \n",
    "### The reason spam(1) is not returned is because spam(0) jumped to the \"except\" clause of the function, after which the\n",
    "### function does not revert back to the try clause before ending"
   ]
  },
  {
   "cell_type": "code",
   "execution_count": null,
   "metadata": {
    "collapsed": false
   },
   "outputs": [],
   "source": [
    "######################################################################\n",
    "########                 Guess the Number                     ########\n",
    "######################################################################\n",
    "\n",
    "### This is a guess-the-number-game\n",
    "# Imports the module \"random\" to use the function randint\n",
    "import random \n",
    "\n",
    "# Generates a random integer between the values 1 and 20 to store in varible secretNumber\n",
    "secretNumber = random.randint(1, 20) \n",
    "print('I am thinking of a number between 1 and 20.')\n",
    "\n",
    "### Ask the player to guess the number 6 times\n",
    "for guessesTaken in range(1, 7):\n",
    "    print('Take a guess.')\n",
    "    guess = int(input())\n",
    "    \n",
    "    if guess < secretNumber:\n",
    "        print('Your guess is too low.')\n",
    "    elif guess > secretNumber:\n",
    "        print('Your guess is too high.')\n",
    "    else:\n",
    "        break # This condition is the correct guess!\n",
    "if guess == secretNumber:\n",
    "    print('Good job! You guessed my number in ' + str(guessesTaken) + ' guesses!')\n",
    "else:\n",
    "    print('Nope. The number I was thinking of was ' + str(secretNumber))\n"
   ]
  }
 ],
 "metadata": {
  "anaconda-cloud": {},
  "kernelspec": {
   "display_name": "Python [conda env:py36]",
   "language": "python",
   "name": "conda-env-py36-py"
  },
  "language_info": {
   "codemirror_mode": {
    "name": "ipython",
    "version": 3
   },
   "file_extension": ".py",
   "mimetype": "text/x-python",
   "name": "python",
   "nbconvert_exporter": "python",
   "pygments_lexer": "ipython3",
   "version": "3.6.2"
  }
 },
 "nbformat": 4,
 "nbformat_minor": 1
}
