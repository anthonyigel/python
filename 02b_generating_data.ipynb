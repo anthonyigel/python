{
 "cells": [
  {
   "cell_type": "code",
   "execution_count": null,
   "metadata": {
    "collapsed": true
   },
   "outputs": [],
   "source": [
    "##################################################\n",
    "### Author: Anthony Igel                       ###\n",
    "### Team: Category Management Transformation   ###\n",
    "### Project: Developing practical Python Tools ###\n",
    "### Purpose: Generating data for modeling      ###\n",
    "### Date: 06/04/2018                           ###\n",
    "##################################################\n",
    "\n",
    "#################################################################################################################################\n",
    "\n",
    "######## sys information ########\n",
    "### Before starting, ensure that your version of Python is up to date\n",
    "import sys\n",
    "assert sys.version_info.major == 3\n",
    "\n",
    "######################################################################\n",
    "########                     Import Modules                   ########\n",
    "######################################################################\n",
    "import py_effo as py_effo\n",
    "\n",
    "### pandas\n",
    "# Pandas is for structured data operations and manipulations, extensively used for data preparation\n",
    "import pandas as pd\n",
    "\n",
    "### sklearn\n",
    "from sklearn import datasets\n",
    "from sklearn.datasets.samples_generator import make_blobs\n",
    "from matplotlib import pyplot as plt"
   ]
  },
  {
   "cell_type": "code",
   "execution_count": null,
   "metadata": {
    "collapsed": false
   },
   "outputs": [],
   "source": [
    "######################################################################\n",
    "########            Generate Linerar Regression Data          ########\n",
    "######################################################################\n",
    "\n",
    "### Generate regression data from scikit-learn\n",
    "# n_samples: number of test data points created\n",
    "# n_features: number of input features\n",
    "# noise: variation amongst the generated data\n",
    "x, y = datasets.make_regression(n_samples = 2000, n_features = 15, noise = 1.5)\n",
    "\n",
    "### Convert data set into data frames\n",
    "x = pd.DataFrame(data = x, columns = ['f1', 'f2', 'f3', 'f4', 'f5', 'f6', 'f7', 'f8', 'f9', 'f10', 'f11', 'f12', 'f13', 'f14', 'f15'])\n",
    "y = pd.DataFrame(data = y, columns = ['target'])\n",
    "\n",
    "### Join them together for hollistic view\n",
    "df = y.join(x)\n",
    "\n",
    "### View descriptive statistics for data frame\n",
    "df.describe()"
   ]
  },
  {
   "cell_type": "code",
   "execution_count": null,
   "metadata": {
    "collapsed": false
   },
   "outputs": [],
   "source": [
    "######################################################################\n",
    "########                Generate Clustering Data              ########\n",
    "######################################################################\n",
    "\n",
    "### Generate clustering data from scikit-learn.datasets make_blobs function\n",
    "# n_samples: number of test data points created\n",
    "# centers: number of clusters\n",
    "# features: number of input features\n",
    "x, y = make_blobs(n_samples = 200, centers = 4, n_features = 2)\n",
    "\n",
    "### Create data frame from generated data set\n",
    "x = pd.DataFrame(data = x, columns = ['x1', 'x2'])\n",
    "y = pd.DataFrame(data = y, columns = ['label'])\n",
    "df = y.join(x)\n",
    "groups = df.groupby('label')\n",
    "\n",
    "# Plot the blobs\n",
    "fig, ax = plt.subplots()\n",
    "colors = [\"blue\", \"red\", \"green\", \"purple\"]\n",
    "for idx, classification in groups:\n",
    "    classification.plot(ax = ax, kind = 'scatter', x = 'x1', y = 'x2', label = idx, color = colors[idx])\n",
    "plt.show()\n"
   ]
  }
 ],
 "metadata": {
  "anaconda-cloud": {},
  "kernelspec": {
   "display_name": "Python [conda env:py36]",
   "language": "python",
   "name": "conda-env-py36-py"
  },
  "language_info": {
   "codemirror_mode": {
    "name": "ipython",
    "version": 3
   },
   "file_extension": ".py",
   "mimetype": "text/x-python",
   "name": "python",
   "nbconvert_exporter": "python",
   "pygments_lexer": "ipython3",
   "version": "3.6.2"
  }
 },
 "nbformat": 4,
 "nbformat_minor": 1
}
